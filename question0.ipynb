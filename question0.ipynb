{
 "cells": [
  {
   "cell_type": "code",
   "execution_count": 1,
   "metadata": {
    "collapsed": true
   },
   "outputs": [],
   "source": [
    "import pandas as pd"
   ]
  },
  {
   "cell_type": "code",
   "execution_count": 2,
   "outputs": [],
   "source": [
    "df1 = pd.read_excel('附件.xlsx', sheet_name=0)\n",
    "df2 = pd.read_excel('附件.xlsx', sheet_name=1)\n",
    "df2_valid = pd.read_excel('文物样品信息汇总.xlsx')\n",
    "df3 = pd.read_excel('附件.xlsx', sheet_name=2)"
   ],
   "metadata": {
    "collapsed": false,
    "pycharm": {
     "name": "#%%\n"
    }
   }
  },
  {
   "cell_type": "code",
   "execution_count": 3,
   "outputs": [],
   "source": [
    "a = df2.drop([17,19]).drop('文物采样点',axis=1).values"
   ],
   "metadata": {
    "collapsed": false,
    "pycharm": {
     "name": "#%%\n"
    }
   }
  },
  {
   "cell_type": "code",
   "execution_count": 4,
   "outputs": [],
   "source": [
    "b = df2_valid.drop(['文物编号','文物采样点','纹饰','类型','颜色','表面风化'],axis=1).values"
   ],
   "metadata": {
    "collapsed": false,
    "pycharm": {
     "name": "#%%\n"
    }
   }
  },
  {
   "cell_type": "code",
   "execution_count": 5,
   "outputs": [
    {
     "data": {
      "text/plain": "array([[ 0.000e+00,        nan,  0.000e+00,  0.000e+00,  0.000e+00,\n         0.000e+00,  0.000e+00,  0.000e+00,        nan,        nan,\n         0.000e+00,        nan,        nan,  0.000e+00],\n       [ 0.000e+00,        nan,  0.000e+00,  0.000e+00,  0.000e+00,\n         0.000e+00,  0.000e+00,  0.000e+00,  0.000e+00,        nan,\n         0.000e+00,  0.000e+00,        nan,        nan],\n       [ 2.534e+01,        nan, -7.180e+00, -3.860e+00,        nan,\n        -1.440e+00,        nan, -4.310e+00, -1.160e+00,        nan,\n        -4.000e-02,        nan,        nan,        nan],\n       [-2.534e+01,        nan,  7.180e+00,  3.860e+00,        nan,\n         1.440e+00,        nan,  4.310e+00,  1.160e+00,        nan,\n         4.000e-02,        nan,        nan,        nan],\n       [ 0.000e+00,        nan,  0.000e+00,  0.000e+00,  0.000e+00,\n         0.000e+00,  0.000e+00,  0.000e+00,        nan,        nan,\n         0.000e+00,        nan,        nan,  0.000e+00],\n       [ 0.000e+00,        nan,  0.000e+00,  0.000e+00,  0.000e+00,\n         0.000e+00,  0.000e+00,  0.000e+00,        nan,        nan,\n         0.000e+00,  0.000e+00,        nan,  0.000e+00],\n       [ 7.840e+00,        nan, -3.100e-01,        nan,  2.500e-01,\n         1.100e+00, -3.650e+00,  3.300e-01, -1.500e-01,  4.100e-01,\n        -3.200e-01, -1.000e-02,        nan,        nan],\n       [-7.840e+00,        nan,  3.100e-01,        nan, -2.500e-01,\n        -1.100e+00,  3.650e+00, -3.300e-01,  1.500e-01, -4.100e-01,\n         3.200e-01,  1.000e-02,        nan,        nan],\n       [ 0.000e+00,        nan,        nan,  0.000e+00,        nan,\n         0.000e+00,  0.000e+00,  0.000e+00,        nan,        nan,\n         0.000e+00,        nan,        nan,        nan],\n       [ 0.000e+00,        nan,        nan,  0.000e+00,        nan,\n         0.000e+00,        nan,  0.000e+00,  0.000e+00,  0.000e+00,\n         0.000e+00,  0.000e+00,        nan,  0.000e+00],\n       [ 0.000e+00,        nan,        nan,  0.000e+00,        nan,\n         0.000e+00,        nan,  0.000e+00,  0.000e+00,  0.000e+00,\n         0.000e+00,  0.000e+00,        nan,  0.000e+00],\n       [ 0.000e+00,        nan,  0.000e+00,  0.000e+00,        nan,\n         0.000e+00,  0.000e+00,  0.000e+00,        nan,        nan,\n         0.000e+00,        nan,        nan,        nan],\n       [ 0.000e+00,        nan,  0.000e+00,  0.000e+00,        nan,\n         0.000e+00,  0.000e+00,  0.000e+00,        nan,        nan,\n               nan,        nan,        nan,        nan],\n       [ 0.000e+00,        nan,  0.000e+00,  0.000e+00,  0.000e+00,\n         0.000e+00,        nan,  0.000e+00,  0.000e+00,  0.000e+00,\n         0.000e+00,  0.000e+00,        nan,        nan],\n       [ 0.000e+00,        nan,  0.000e+00,  0.000e+00,        nan,\n         0.000e+00,  0.000e+00,  0.000e+00,        nan,        nan,\n         0.000e+00,        nan,        nan,        nan],\n       [ 0.000e+00,  0.000e+00,  0.000e+00,  0.000e+00,        nan,\n         0.000e+00,  0.000e+00,  0.000e+00,        nan,        nan,\n         0.000e+00,        nan,        nan,        nan],\n       [ 0.000e+00,  0.000e+00,  0.000e+00,  0.000e+00,  0.000e+00,\n         0.000e+00,  0.000e+00,  0.000e+00,  0.000e+00,        nan,\n         0.000e+00,        nan,        nan,        nan],\n       [ 0.000e+00,  0.000e+00,  0.000e+00,  0.000e+00,  0.000e+00,\n         0.000e+00,  0.000e+00,  0.000e+00,  0.000e+00,  0.000e+00,\n               nan,  0.000e+00,        nan,        nan],\n       [ 0.000e+00,        nan,  0.000e+00,        nan,  0.000e+00,\n         0.000e+00,        nan,        nan,        nan,        nan,\n         0.000e+00,  0.000e+00,  0.000e+00,        nan],\n       [ 0.000e+00,        nan,        nan,  0.000e+00,  0.000e+00,\n         0.000e+00,  0.000e+00,  0.000e+00,  0.000e+00,  0.000e+00,\n         0.000e+00,  0.000e+00,        nan,        nan],\n       [ 0.000e+00,        nan,  0.000e+00,        nan,        nan,\n         0.000e+00,  0.000e+00,  0.000e+00,  0.000e+00,  0.000e+00,\n         0.000e+00,        nan,        nan,        nan],\n       [ 0.000e+00,        nan,        nan,  0.000e+00,  0.000e+00,\n         0.000e+00,  0.000e+00,  0.000e+00,  0.000e+00,  0.000e+00,\n         0.000e+00,        nan,        nan,        nan],\n       [ 0.000e+00,        nan,  0.000e+00,  0.000e+00,  0.000e+00,\n         0.000e+00,  0.000e+00,  0.000e+00,        nan,        nan,\n         0.000e+00,        nan,        nan,        nan],\n       [ 0.000e+00,  0.000e+00,        nan,  0.000e+00,  0.000e+00,\n         0.000e+00,        nan,  0.000e+00,  0.000e+00,  0.000e+00,\n               nan,  0.000e+00,        nan,        nan],\n       [ 0.000e+00,        nan,        nan,  0.000e+00,        nan,\n         0.000e+00,        nan,  0.000e+00,  0.000e+00,  0.000e+00,\n         0.000e+00,  0.000e+00,        nan,        nan],\n       [ 0.000e+00,  0.000e+00,        nan,  0.000e+00,        nan,\n         0.000e+00,  0.000e+00,  0.000e+00,  0.000e+00,  0.000e+00,\n         0.000e+00,  0.000e+00,        nan,        nan],\n       [ 1.607e+01,        nan,        nan, -1.570e+00,        nan,\n        -4.800e-01,        nan,  6.970e+00, -3.900e-01, -3.200e+00,\n        -2.910e+00, -1.700e-01,        nan, -1.399e+01],\n       [-1.607e+01,        nan,        nan,  1.570e+00,        nan,\n         4.800e-01,        nan, -6.970e+00,  3.900e-01,  3.200e+00,\n         2.910e+00,  1.700e-01,        nan,  1.399e+01],\n       [ 0.000e+00,        nan,        nan,  0.000e+00,  0.000e+00,\n         0.000e+00,  0.000e+00,  0.000e+00,        nan,        nan,\n         0.000e+00,        nan,        nan,        nan],\n       [ 0.000e+00,        nan,  0.000e+00,  0.000e+00,  0.000e+00,\n         0.000e+00,  0.000e+00,  0.000e+00,  0.000e+00,  0.000e+00,\n         0.000e+00,  0.000e+00,  0.000e+00,        nan],\n       [ 0.000e+00,  0.000e+00,  0.000e+00,  0.000e+00,  0.000e+00,\n         0.000e+00,  0.000e+00,  0.000e+00,  0.000e+00,  0.000e+00,\n         0.000e+00,  0.000e+00,        nan,        nan],\n       [ 0.000e+00,        nan,  0.000e+00,  0.000e+00,  0.000e+00,\n         0.000e+00,  0.000e+00,        nan,  0.000e+00,  0.000e+00,\n               nan,  0.000e+00,  0.000e+00,        nan],\n       [ 0.000e+00,        nan,        nan,  0.000e+00,  0.000e+00,\n         0.000e+00,  0.000e+00,        nan,  0.000e+00,  0.000e+00,\n         0.000e+00,  0.000e+00,  0.000e+00,        nan],\n       [ 0.000e+00,        nan,        nan,  0.000e+00,  0.000e+00,\n         0.000e+00,  0.000e+00,  0.000e+00,  0.000e+00,  0.000e+00,\n         0.000e+00,  0.000e+00,        nan,        nan],\n       [ 0.000e+00,        nan,  0.000e+00,  0.000e+00,        nan,\n         0.000e+00,  0.000e+00,  0.000e+00,  0.000e+00,  0.000e+00,\n         0.000e+00,        nan,        nan,        nan],\n       [ 0.000e+00,        nan,  0.000e+00,  0.000e+00,  0.000e+00,\n         0.000e+00,        nan,  0.000e+00,  0.000e+00,  0.000e+00,\n         0.000e+00,        nan,        nan,        nan],\n       [ 0.000e+00,        nan,  0.000e+00,  0.000e+00,        nan,\n         0.000e+00,  0.000e+00,  0.000e+00,  0.000e+00,  0.000e+00,\n         0.000e+00,  0.000e+00,        nan,        nan],\n       [ 0.000e+00,        nan,        nan,  0.000e+00,        nan,\n         0.000e+00,  0.000e+00,  0.000e+00,  0.000e+00,  0.000e+00,\n         0.000e+00,        nan,        nan,        nan],\n       [ 0.000e+00,  0.000e+00,  0.000e+00,  0.000e+00,        nan,\n         0.000e+00,  0.000e+00,  0.000e+00,  0.000e+00,  0.000e+00,\n         0.000e+00,  0.000e+00,        nan,        nan],\n       [ 0.000e+00,        nan,  0.000e+00,  0.000e+00,        nan,\n         0.000e+00,        nan,  0.000e+00,  0.000e+00,  0.000e+00,\n         0.000e+00,  0.000e+00,        nan,  0.000e+00],\n       [ 0.000e+00,  0.000e+00,        nan,  0.000e+00,        nan,\n         0.000e+00,  0.000e+00,  0.000e+00,  0.000e+00,  0.000e+00,\n         0.000e+00,  0.000e+00,        nan,        nan],\n       [ 0.000e+00,        nan,        nan,  0.000e+00,        nan,\n         0.000e+00,        nan,  0.000e+00,  0.000e+00,  0.000e+00,\n         0.000e+00,  0.000e+00,        nan,        nan],\n       [ 0.000e+00,        nan,        nan,  0.000e+00,        nan,\n         0.000e+00,  0.000e+00,        nan,  0.000e+00,  0.000e+00,\n         0.000e+00,  0.000e+00,        nan,        nan],\n       [ 0.000e+00,        nan,  0.000e+00,  0.000e+00,  0.000e+00,\n         0.000e+00,  0.000e+00,  0.000e+00,  0.000e+00,  0.000e+00,\n         0.000e+00,  0.000e+00,        nan,        nan],\n       [-7.000e-02,  6.000e-02, -2.000e-01,        nan, -7.000e-02,\n        -2.130e+00,        nan, -5.000e-02,  1.760e+00, -4.100e-01,\n               nan,        nan,        nan,        nan],\n       [ 7.000e-02, -6.000e-02,  2.000e-01,        nan,  7.000e-02,\n         2.130e+00,        nan,  5.000e-02, -1.760e+00,  4.100e-01,\n               nan,        nan,        nan,        nan],\n       [ 0.000e+00,        nan,        nan,  0.000e+00,  0.000e+00,\n         0.000e+00,  0.000e+00,  0.000e+00,  0.000e+00,  0.000e+00,\n               nan,  0.000e+00,        nan,        nan],\n       [ 0.000e+00,        nan,        nan,  0.000e+00,  0.000e+00,\n         0.000e+00,  0.000e+00,  0.000e+00,  0.000e+00,  0.000e+00,\n         0.000e+00,  0.000e+00,        nan,        nan],\n       [ 0.000e+00,  0.000e+00,  0.000e+00,  0.000e+00,        nan,\n         0.000e+00,  0.000e+00,  0.000e+00,  0.000e+00,  0.000e+00,\n               nan,  0.000e+00,        nan,        nan],\n       [ 0.000e+00,  0.000e+00,  0.000e+00,  0.000e+00,  0.000e+00,\n         0.000e+00,        nan,  0.000e+00,  0.000e+00,  0.000e+00,\n               nan,  0.000e+00,        nan,        nan],\n       [ 0.000e+00,        nan,  0.000e+00,        nan,  0.000e+00,\n         0.000e+00,        nan,  0.000e+00,  0.000e+00,  0.000e+00,\n         0.000e+00,  0.000e+00,        nan,        nan],\n       [ 0.000e+00,  0.000e+00,  0.000e+00,  0.000e+00,  0.000e+00,\n         0.000e+00,        nan,  0.000e+00,  0.000e+00,  0.000e+00,\n         0.000e+00,  0.000e+00,        nan,        nan],\n       [ 0.000e+00,  0.000e+00,  0.000e+00,  0.000e+00,  0.000e+00,\n         0.000e+00,  0.000e+00,        nan,  0.000e+00,  0.000e+00,\n         0.000e+00,  0.000e+00,  0.000e+00,        nan],\n       [-2.582e+01,        nan,        nan,  2.500e+00,  2.700e-01,\n        -1.120e+00,  1.470e+00,  2.500e-01,  1.116e+01,  1.910e+00,\n         6.780e+00,  1.600e-01,        nan,        nan],\n       [ 2.582e+01,        nan,        nan, -2.500e+00, -2.700e-01,\n         1.120e+00, -1.470e+00, -2.500e-01, -1.116e+01, -1.910e+00,\n        -6.780e+00, -1.600e-01,        nan,        nan],\n       [ 0.000e+00,        nan,        nan,  0.000e+00,  0.000e+00,\n         0.000e+00,  0.000e+00,  0.000e+00,  0.000e+00,  0.000e+00,\n         0.000e+00,  0.000e+00,        nan,        nan],\n       [ 0.000e+00,        nan,        nan,  0.000e+00,  0.000e+00,\n         0.000e+00,        nan,  0.000e+00,  0.000e+00,  0.000e+00,\n         0.000e+00,  0.000e+00,        nan,        nan],\n       [ 0.000e+00,        nan,        nan,  0.000e+00,  0.000e+00,\n         0.000e+00,  0.000e+00,  0.000e+00,  0.000e+00,  0.000e+00,\n         0.000e+00,  0.000e+00,  0.000e+00,        nan],\n       [ 0.000e+00,        nan,        nan,  0.000e+00,  0.000e+00,\n         0.000e+00,  0.000e+00,  0.000e+00,  0.000e+00,        nan,\n         0.000e+00,        nan,        nan,        nan],\n       [ 0.000e+00,  0.000e+00,        nan,  0.000e+00,  0.000e+00,\n         0.000e+00,  0.000e+00,  0.000e+00,  0.000e+00,  0.000e+00,\n         0.000e+00,  0.000e+00,        nan,        nan],\n       [ 0.000e+00,  0.000e+00,  0.000e+00,  0.000e+00,  0.000e+00,\n         0.000e+00,        nan,  0.000e+00,  0.000e+00,  0.000e+00,\n               nan,  0.000e+00,        nan,        nan],\n       [ 0.000e+00,        nan,  0.000e+00,  0.000e+00,  0.000e+00,\n         0.000e+00,        nan,  0.000e+00,  0.000e+00,  0.000e+00,\n         0.000e+00,  0.000e+00,        nan,        nan],\n       [ 0.000e+00,        nan,        nan,        nan,  0.000e+00,\n         0.000e+00,        nan,  0.000e+00,  0.000e+00,        nan,\n         0.000e+00,  0.000e+00,        nan,        nan],\n       [ 0.000e+00,  0.000e+00,        nan,  0.000e+00,        nan,\n         0.000e+00,        nan,  0.000e+00,  0.000e+00,  0.000e+00,\n         0.000e+00,        nan,        nan,        nan],\n       [ 0.000e+00,        nan,        nan,  0.000e+00,        nan,\n         0.000e+00,        nan,  0.000e+00,  0.000e+00,  0.000e+00,\n         0.000e+00,        nan,        nan,        nan],\n       [ 0.000e+00,        nan,        nan,  0.000e+00,        nan,\n         0.000e+00,        nan,  0.000e+00,  0.000e+00,  0.000e+00,\n               nan,        nan,        nan,        nan],\n       [ 0.000e+00,        nan,  0.000e+00,  0.000e+00,  0.000e+00,\n         0.000e+00,  0.000e+00,  0.000e+00,  0.000e+00,  0.000e+00,\n         0.000e+00,  0.000e+00,        nan,        nan]])"
     },
     "execution_count": 5,
     "metadata": {},
     "output_type": "execute_result"
    }
   ],
   "source": [
    "a - b"
   ],
   "metadata": {
    "collapsed": false,
    "pycharm": {
     "name": "#%%\n"
    }
   }
  },
  {
   "cell_type": "code",
   "execution_count": 6,
   "outputs": [
    {
     "data": {
      "text/plain": "文物编号    0.000000\n纹饰      0.000000\n类型      0.000000\n颜色      0.068966\n表面风化    0.000000\ndtype: float64"
     },
     "execution_count": 6,
     "metadata": {},
     "output_type": "execute_result"
    }
   ],
   "source": [
    "df1.isnull().sum()/df1.shape[0] #得到缺失值的比例"
   ],
   "metadata": {
    "collapsed": false,
    "pycharm": {
     "name": "#%%\n"
    }
   }
  },
  {
   "cell_type": "code",
   "execution_count": 7,
   "outputs": [
    {
     "data": {
      "text/plain": "    二氧化硅(SiO2)  氧化钠(Na2O)  氧化钾(K2O)  氧化钙(CaO)  氧化镁(MgO)  氧化铝(Al2O3)  \\\n1        36.28        NaN      1.05      2.34      1.18        5.73   \n19       29.64        NaN       NaN      2.93      0.59        3.57   \n23       53.79       7.92       NaN      0.50      0.71        1.42   \n29       68.08        NaN      0.26      1.34      1.00        4.70   \n30       63.30       0.92      0.30      2.98      1.49       14.34   \n44       51.33       5.68      0.35       NaN      1.16        5.66   \n45       51.26       5.74      0.15      0.79      1.09        3.53   \n48       60.74       3.06      0.20      2.14       NaN       12.69   \n52       53.33       0.80      0.32      2.82      1.54       13.65   \n53       54.61        NaN      0.30      2.08      1.20        6.50   \n54       28.79        NaN       NaN      4.58      1.47        5.38   \n55       17.98        NaN       NaN      3.19      0.47        1.87   \n56       45.02        NaN       NaN      3.12      0.54        4.16   \n60       63.66       3.04      0.11      0.78      1.14        6.06   \n\n    氧化铁(Fe2O3)  氧化铜(CuO)  氧化铅(PbO)  氧化钡(BaO)  五氧化二磷(P2O5)  氧化锶(SrO)  \\\n1         1.86      0.26     47.43       NaN         3.57      0.19   \n19        1.33      3.51     42.82      5.35         8.83      0.19   \n23         NaN      2.99     16.98     11.86          NaN      0.33   \n29        0.41      0.33     17.14      4.04         1.04      0.12   \n30        0.81      0.74     12.31      2.03         0.41      0.25   \n44         NaN      2.72     20.12     10.88          NaN       NaN   \n45         NaN      2.67     21.88     10.47         0.08      0.35   \n48        0.77      0.43     13.61      5.22          NaN      0.26   \n52        1.03       NaN     15.71      7.31         1.10      0.25   \n53        1.27      0.45     23.02      4.19         4.32      0.30   \n54        2.74      0.70     34.18      6.10        11.10      0.46   \n55        0.33      1.13     44.00     14.20         6.34      0.66   \n56         NaN      0.70     30.61      6.22         6.34      0.23   \n60         NaN      0.54     13.66      8.99          NaN      0.27   \n\n    氧化锡(SnO2)  二氧化硫(SO2) 纹饰  类型   颜色 表面风化  \n1         NaN        NaN  A  铅钡   浅蓝   风化  \n19        NaN        NaN  A  铅钡  NaN   风化  \n23        NaN        NaN  A  铅钡   蓝绿   风化  \n29       0.23        NaN  A  铅钡   浅蓝   风化  \n30        NaN        NaN  A  铅钡   浅蓝   风化  \n44        NaN        NaN  A  铅钡   浅蓝   风化  \n45        NaN        NaN  A  铅钡   浅蓝   风化  \n48        NaN        NaN  A  铅钡   浅蓝   风化  \n52       1.31        NaN  A  铅钡  NaN   风化  \n53        NaN        NaN  A  铅钡    黑   风化  \n54        NaN        NaN  A  铅钡    黑   风化  \n55        NaN        NaN  A  铅钡    黑   风化  \n56        NaN        NaN  A  铅钡    黑   风化  \n60        NaN        NaN  A  铅钡   浅蓝   风化  ",
      "text/html": "<div>\n<style scoped>\n    .dataframe tbody tr th:only-of-type {\n        vertical-align: middle;\n    }\n\n    .dataframe tbody tr th {\n        vertical-align: top;\n    }\n\n    .dataframe thead th {\n        text-align: right;\n    }\n</style>\n<table border=\"1\" class=\"dataframe\">\n  <thead>\n    <tr style=\"text-align: right;\">\n      <th></th>\n      <th>二氧化硅(SiO2)</th>\n      <th>氧化钠(Na2O)</th>\n      <th>氧化钾(K2O)</th>\n      <th>氧化钙(CaO)</th>\n      <th>氧化镁(MgO)</th>\n      <th>氧化铝(Al2O3)</th>\n      <th>氧化铁(Fe2O3)</th>\n      <th>氧化铜(CuO)</th>\n      <th>氧化铅(PbO)</th>\n      <th>氧化钡(BaO)</th>\n      <th>五氧化二磷(P2O5)</th>\n      <th>氧化锶(SrO)</th>\n      <th>氧化锡(SnO2)</th>\n      <th>二氧化硫(SO2)</th>\n      <th>纹饰</th>\n      <th>类型</th>\n      <th>颜色</th>\n      <th>表面风化</th>\n    </tr>\n  </thead>\n  <tbody>\n    <tr>\n      <th>1</th>\n      <td>36.28</td>\n      <td>NaN</td>\n      <td>1.05</td>\n      <td>2.34</td>\n      <td>1.18</td>\n      <td>5.73</td>\n      <td>1.86</td>\n      <td>0.26</td>\n      <td>47.43</td>\n      <td>NaN</td>\n      <td>3.57</td>\n      <td>0.19</td>\n      <td>NaN</td>\n      <td>NaN</td>\n      <td>A</td>\n      <td>铅钡</td>\n      <td>浅蓝</td>\n      <td>风化</td>\n    </tr>\n    <tr>\n      <th>19</th>\n      <td>29.64</td>\n      <td>NaN</td>\n      <td>NaN</td>\n      <td>2.93</td>\n      <td>0.59</td>\n      <td>3.57</td>\n      <td>1.33</td>\n      <td>3.51</td>\n      <td>42.82</td>\n      <td>5.35</td>\n      <td>8.83</td>\n      <td>0.19</td>\n      <td>NaN</td>\n      <td>NaN</td>\n      <td>A</td>\n      <td>铅钡</td>\n      <td>NaN</td>\n      <td>风化</td>\n    </tr>\n    <tr>\n      <th>23</th>\n      <td>53.79</td>\n      <td>7.92</td>\n      <td>NaN</td>\n      <td>0.50</td>\n      <td>0.71</td>\n      <td>1.42</td>\n      <td>NaN</td>\n      <td>2.99</td>\n      <td>16.98</td>\n      <td>11.86</td>\n      <td>NaN</td>\n      <td>0.33</td>\n      <td>NaN</td>\n      <td>NaN</td>\n      <td>A</td>\n      <td>铅钡</td>\n      <td>蓝绿</td>\n      <td>风化</td>\n    </tr>\n    <tr>\n      <th>29</th>\n      <td>68.08</td>\n      <td>NaN</td>\n      <td>0.26</td>\n      <td>1.34</td>\n      <td>1.00</td>\n      <td>4.70</td>\n      <td>0.41</td>\n      <td>0.33</td>\n      <td>17.14</td>\n      <td>4.04</td>\n      <td>1.04</td>\n      <td>0.12</td>\n      <td>0.23</td>\n      <td>NaN</td>\n      <td>A</td>\n      <td>铅钡</td>\n      <td>浅蓝</td>\n      <td>风化</td>\n    </tr>\n    <tr>\n      <th>30</th>\n      <td>63.30</td>\n      <td>0.92</td>\n      <td>0.30</td>\n      <td>2.98</td>\n      <td>1.49</td>\n      <td>14.34</td>\n      <td>0.81</td>\n      <td>0.74</td>\n      <td>12.31</td>\n      <td>2.03</td>\n      <td>0.41</td>\n      <td>0.25</td>\n      <td>NaN</td>\n      <td>NaN</td>\n      <td>A</td>\n      <td>铅钡</td>\n      <td>浅蓝</td>\n      <td>风化</td>\n    </tr>\n    <tr>\n      <th>44</th>\n      <td>51.33</td>\n      <td>5.68</td>\n      <td>0.35</td>\n      <td>NaN</td>\n      <td>1.16</td>\n      <td>5.66</td>\n      <td>NaN</td>\n      <td>2.72</td>\n      <td>20.12</td>\n      <td>10.88</td>\n      <td>NaN</td>\n      <td>NaN</td>\n      <td>NaN</td>\n      <td>NaN</td>\n      <td>A</td>\n      <td>铅钡</td>\n      <td>浅蓝</td>\n      <td>风化</td>\n    </tr>\n    <tr>\n      <th>45</th>\n      <td>51.26</td>\n      <td>5.74</td>\n      <td>0.15</td>\n      <td>0.79</td>\n      <td>1.09</td>\n      <td>3.53</td>\n      <td>NaN</td>\n      <td>2.67</td>\n      <td>21.88</td>\n      <td>10.47</td>\n      <td>0.08</td>\n      <td>0.35</td>\n      <td>NaN</td>\n      <td>NaN</td>\n      <td>A</td>\n      <td>铅钡</td>\n      <td>浅蓝</td>\n      <td>风化</td>\n    </tr>\n    <tr>\n      <th>48</th>\n      <td>60.74</td>\n      <td>3.06</td>\n      <td>0.20</td>\n      <td>2.14</td>\n      <td>NaN</td>\n      <td>12.69</td>\n      <td>0.77</td>\n      <td>0.43</td>\n      <td>13.61</td>\n      <td>5.22</td>\n      <td>NaN</td>\n      <td>0.26</td>\n      <td>NaN</td>\n      <td>NaN</td>\n      <td>A</td>\n      <td>铅钡</td>\n      <td>浅蓝</td>\n      <td>风化</td>\n    </tr>\n    <tr>\n      <th>52</th>\n      <td>53.33</td>\n      <td>0.80</td>\n      <td>0.32</td>\n      <td>2.82</td>\n      <td>1.54</td>\n      <td>13.65</td>\n      <td>1.03</td>\n      <td>NaN</td>\n      <td>15.71</td>\n      <td>7.31</td>\n      <td>1.10</td>\n      <td>0.25</td>\n      <td>1.31</td>\n      <td>NaN</td>\n      <td>A</td>\n      <td>铅钡</td>\n      <td>NaN</td>\n      <td>风化</td>\n    </tr>\n    <tr>\n      <th>53</th>\n      <td>54.61</td>\n      <td>NaN</td>\n      <td>0.30</td>\n      <td>2.08</td>\n      <td>1.20</td>\n      <td>6.50</td>\n      <td>1.27</td>\n      <td>0.45</td>\n      <td>23.02</td>\n      <td>4.19</td>\n      <td>4.32</td>\n      <td>0.30</td>\n      <td>NaN</td>\n      <td>NaN</td>\n      <td>A</td>\n      <td>铅钡</td>\n      <td>黑</td>\n      <td>风化</td>\n    </tr>\n    <tr>\n      <th>54</th>\n      <td>28.79</td>\n      <td>NaN</td>\n      <td>NaN</td>\n      <td>4.58</td>\n      <td>1.47</td>\n      <td>5.38</td>\n      <td>2.74</td>\n      <td>0.70</td>\n      <td>34.18</td>\n      <td>6.10</td>\n      <td>11.10</td>\n      <td>0.46</td>\n      <td>NaN</td>\n      <td>NaN</td>\n      <td>A</td>\n      <td>铅钡</td>\n      <td>黑</td>\n      <td>风化</td>\n    </tr>\n    <tr>\n      <th>55</th>\n      <td>17.98</td>\n      <td>NaN</td>\n      <td>NaN</td>\n      <td>3.19</td>\n      <td>0.47</td>\n      <td>1.87</td>\n      <td>0.33</td>\n      <td>1.13</td>\n      <td>44.00</td>\n      <td>14.20</td>\n      <td>6.34</td>\n      <td>0.66</td>\n      <td>NaN</td>\n      <td>NaN</td>\n      <td>A</td>\n      <td>铅钡</td>\n      <td>黑</td>\n      <td>风化</td>\n    </tr>\n    <tr>\n      <th>56</th>\n      <td>45.02</td>\n      <td>NaN</td>\n      <td>NaN</td>\n      <td>3.12</td>\n      <td>0.54</td>\n      <td>4.16</td>\n      <td>NaN</td>\n      <td>0.70</td>\n      <td>30.61</td>\n      <td>6.22</td>\n      <td>6.34</td>\n      <td>0.23</td>\n      <td>NaN</td>\n      <td>NaN</td>\n      <td>A</td>\n      <td>铅钡</td>\n      <td>黑</td>\n      <td>风化</td>\n    </tr>\n    <tr>\n      <th>60</th>\n      <td>63.66</td>\n      <td>3.04</td>\n      <td>0.11</td>\n      <td>0.78</td>\n      <td>1.14</td>\n      <td>6.06</td>\n      <td>NaN</td>\n      <td>0.54</td>\n      <td>13.66</td>\n      <td>8.99</td>\n      <td>NaN</td>\n      <td>0.27</td>\n      <td>NaN</td>\n      <td>NaN</td>\n      <td>A</td>\n      <td>铅钡</td>\n      <td>浅蓝</td>\n      <td>风化</td>\n    </tr>\n  </tbody>\n</table>\n</div>"
     },
     "execution_count": 7,
     "metadata": {},
     "output_type": "execute_result"
    }
   ],
   "source": [
    "filter_df1 = df2_valid[(df2_valid.纹饰 == 'A') & (df2_valid.类型 == '铅钡') & (df2_valid.表面风化 == '风化')].drop(\n",
    "    ['文物编号', '文物采样点'], axis=1)\n",
    "filter_df1"
   ],
   "metadata": {
    "collapsed": false,
    "pycharm": {
     "name": "#%%\n"
    }
   }
  },
  {
   "cell_type": "code",
   "execution_count": 8,
   "outputs": [
    {
     "data": {
      "text/plain": "    二氧化硅(SiO2)  氧化钠(Na2O)  氧化钾(K2O)  氧化钙(CaO)  氧化镁(MgO)  氧化铝(Al2O3)  \\\n9        20.14        NaN       NaN      1.48       NaN        1.34   \n10        4.61        NaN       NaN      3.19       NaN        1.11   \n13       33.59        NaN      0.21      3.51      0.71        2.69   \n25       50.61       2.31       NaN      0.63       NaN        1.90   \n26        3.72        NaN      0.40      3.01       NaN        1.18   \n27       19.79        NaN       NaN      1.44       NaN        0.70   \n36       35.78        NaN      0.25      0.78       NaN        1.62   \n38       39.57       2.22      0.14      0.37       NaN        1.60   \n40       32.93       1.38       NaN      0.68       NaN        2.57   \n41       26.25        NaN       NaN      1.11       NaN        0.50   \n42       16.71        NaN       NaN      1.87       NaN        0.45   \n43       18.46        NaN      0.44      4.96      2.73        3.33   \n46       12.41       0.00      0.00      5.24      0.89        2.25   \n47       21.70        NaN       NaN      6.40      0.95        3.41   \n57       24.61        NaN       NaN      3.58      1.19        5.25   \n58       21.35        NaN       NaN      5.13      1.45        2.51   \n59       25.74       1.22       NaN      2.27      0.55        1.16   \n61       22.28        NaN      0.32      3.19      1.28        4.15   \n62       17.11        NaN       NaN       NaN      1.11        3.65   \n64       29.15        NaN       NaN      1.21       NaN        1.85   \n65       25.42        NaN       NaN      1.31       NaN        2.18   \n66       30.39        NaN      0.34      3.49      0.79        3.52   \n\n    氧化铁(Fe2O3)  氧化铜(CuO)  氧化铅(PbO)  氧化钡(BaO)  五氧化二磷(P2O5)  氧化锶(SrO)  \\\n9          NaN     10.41     28.68     31.23         3.59      0.37   \n10         NaN      3.14     32.45     30.62         7.56      0.53   \n13         NaN      4.93     25.39     14.61         9.38      0.37   \n25        1.55      1.12     31.90      6.65         0.19      0.20   \n26         NaN      3.60     29.92     35.45         6.04      0.62   \n27         NaN     10.57     29.53     32.25         3.13      0.45   \n36        0.47      1.51     46.55     10.00         0.34      0.22   \n38        0.32      0.68     41.61     10.83         0.07      0.22   \n40        0.29      0.73     49.31      9.79         0.48      0.41   \n41         NaN      0.88     61.03      7.22         1.16      0.61   \n42        0.19       NaN     70.21      6.69         1.77      0.68   \n43        1.79      0.19     44.12      9.76         7.46      0.47   \n46        0.76      5.35     59.85      7.29          NaN      0.64   \n47        1.39      1.51     44.75      3.26        12.83      0.47   \n57        1.19      1.37     40.24      8.94         8.10      0.39   \n58        0.42      0.75     51.34       NaN         8.75       NaN   \n59        0.23      0.70     47.42      8.64         5.71      0.44   \n61         NaN      0.83     55.46      7.04         4.24      0.88   \n62         NaN      1.34     58.46       NaN        14.13      1.12   \n64         NaN      0.79     41.25     15.45         2.54       NaN   \n65         NaN      1.16     45.10     17.30          NaN       NaN   \n66        0.86      3.13     39.35      7.66         8.99      0.24   \n\n    氧化锡(SnO2)  二氧化硫(SO2) 纹饰  类型   颜色 表面风化  \n9         NaN       2.58  C  铅钡    紫   风化  \n10        NaN      15.03  C  铅钡    紫   风化  \n13        NaN        NaN  C  铅钡   浅蓝   风化  \n25        NaN        NaN  C  铅钡   浅蓝   风化  \n26        NaN      15.95  C  铅钡    紫   风化  \n27        NaN       1.96  C  铅钡    紫   风化  \n36        NaN        NaN  C  铅钡   深绿   风化  \n38        NaN        NaN  C  铅钡   深绿   风化  \n40        NaN        NaN  C  铅钡   深绿   风化  \n41        NaN        NaN  C  铅钡   深绿   风化  \n42        NaN        NaN  C  铅钡  NaN   风化  \n43        NaN        NaN  C  铅钡   浅绿   风化  \n46        NaN        NaN  C  铅钡   浅蓝   风化  \n47        NaN        NaN  C  铅钡   浅蓝   风化  \n57       0.47        NaN  C  铅钡   浅蓝   风化  \n58        NaN        NaN  C  铅钡   浅蓝   风化  \n59        NaN        NaN  C  铅钡   浅蓝   风化  \n61        NaN        NaN  C  铅钡   浅蓝   风化  \n62        NaN        NaN  C  铅钡   浅蓝   风化  \n64        NaN        NaN  C  铅钡   蓝绿   风化  \n65        NaN        NaN  C  铅钡   蓝绿   风化  \n66        NaN        NaN  C  铅钡  NaN   风化  ",
      "text/html": "<div>\n<style scoped>\n    .dataframe tbody tr th:only-of-type {\n        vertical-align: middle;\n    }\n\n    .dataframe tbody tr th {\n        vertical-align: top;\n    }\n\n    .dataframe thead th {\n        text-align: right;\n    }\n</style>\n<table border=\"1\" class=\"dataframe\">\n  <thead>\n    <tr style=\"text-align: right;\">\n      <th></th>\n      <th>二氧化硅(SiO2)</th>\n      <th>氧化钠(Na2O)</th>\n      <th>氧化钾(K2O)</th>\n      <th>氧化钙(CaO)</th>\n      <th>氧化镁(MgO)</th>\n      <th>氧化铝(Al2O3)</th>\n      <th>氧化铁(Fe2O3)</th>\n      <th>氧化铜(CuO)</th>\n      <th>氧化铅(PbO)</th>\n      <th>氧化钡(BaO)</th>\n      <th>五氧化二磷(P2O5)</th>\n      <th>氧化锶(SrO)</th>\n      <th>氧化锡(SnO2)</th>\n      <th>二氧化硫(SO2)</th>\n      <th>纹饰</th>\n      <th>类型</th>\n      <th>颜色</th>\n      <th>表面风化</th>\n    </tr>\n  </thead>\n  <tbody>\n    <tr>\n      <th>9</th>\n      <td>20.14</td>\n      <td>NaN</td>\n      <td>NaN</td>\n      <td>1.48</td>\n      <td>NaN</td>\n      <td>1.34</td>\n      <td>NaN</td>\n      <td>10.41</td>\n      <td>28.68</td>\n      <td>31.23</td>\n      <td>3.59</td>\n      <td>0.37</td>\n      <td>NaN</td>\n      <td>2.58</td>\n      <td>C</td>\n      <td>铅钡</td>\n      <td>紫</td>\n      <td>风化</td>\n    </tr>\n    <tr>\n      <th>10</th>\n      <td>4.61</td>\n      <td>NaN</td>\n      <td>NaN</td>\n      <td>3.19</td>\n      <td>NaN</td>\n      <td>1.11</td>\n      <td>NaN</td>\n      <td>3.14</td>\n      <td>32.45</td>\n      <td>30.62</td>\n      <td>7.56</td>\n      <td>0.53</td>\n      <td>NaN</td>\n      <td>15.03</td>\n      <td>C</td>\n      <td>铅钡</td>\n      <td>紫</td>\n      <td>风化</td>\n    </tr>\n    <tr>\n      <th>13</th>\n      <td>33.59</td>\n      <td>NaN</td>\n      <td>0.21</td>\n      <td>3.51</td>\n      <td>0.71</td>\n      <td>2.69</td>\n      <td>NaN</td>\n      <td>4.93</td>\n      <td>25.39</td>\n      <td>14.61</td>\n      <td>9.38</td>\n      <td>0.37</td>\n      <td>NaN</td>\n      <td>NaN</td>\n      <td>C</td>\n      <td>铅钡</td>\n      <td>浅蓝</td>\n      <td>风化</td>\n    </tr>\n    <tr>\n      <th>25</th>\n      <td>50.61</td>\n      <td>2.31</td>\n      <td>NaN</td>\n      <td>0.63</td>\n      <td>NaN</td>\n      <td>1.90</td>\n      <td>1.55</td>\n      <td>1.12</td>\n      <td>31.90</td>\n      <td>6.65</td>\n      <td>0.19</td>\n      <td>0.20</td>\n      <td>NaN</td>\n      <td>NaN</td>\n      <td>C</td>\n      <td>铅钡</td>\n      <td>浅蓝</td>\n      <td>风化</td>\n    </tr>\n    <tr>\n      <th>26</th>\n      <td>3.72</td>\n      <td>NaN</td>\n      <td>0.40</td>\n      <td>3.01</td>\n      <td>NaN</td>\n      <td>1.18</td>\n      <td>NaN</td>\n      <td>3.60</td>\n      <td>29.92</td>\n      <td>35.45</td>\n      <td>6.04</td>\n      <td>0.62</td>\n      <td>NaN</td>\n      <td>15.95</td>\n      <td>C</td>\n      <td>铅钡</td>\n      <td>紫</td>\n      <td>风化</td>\n    </tr>\n    <tr>\n      <th>27</th>\n      <td>19.79</td>\n      <td>NaN</td>\n      <td>NaN</td>\n      <td>1.44</td>\n      <td>NaN</td>\n      <td>0.70</td>\n      <td>NaN</td>\n      <td>10.57</td>\n      <td>29.53</td>\n      <td>32.25</td>\n      <td>3.13</td>\n      <td>0.45</td>\n      <td>NaN</td>\n      <td>1.96</td>\n      <td>C</td>\n      <td>铅钡</td>\n      <td>紫</td>\n      <td>风化</td>\n    </tr>\n    <tr>\n      <th>36</th>\n      <td>35.78</td>\n      <td>NaN</td>\n      <td>0.25</td>\n      <td>0.78</td>\n      <td>NaN</td>\n      <td>1.62</td>\n      <td>0.47</td>\n      <td>1.51</td>\n      <td>46.55</td>\n      <td>10.00</td>\n      <td>0.34</td>\n      <td>0.22</td>\n      <td>NaN</td>\n      <td>NaN</td>\n      <td>C</td>\n      <td>铅钡</td>\n      <td>深绿</td>\n      <td>风化</td>\n    </tr>\n    <tr>\n      <th>38</th>\n      <td>39.57</td>\n      <td>2.22</td>\n      <td>0.14</td>\n      <td>0.37</td>\n      <td>NaN</td>\n      <td>1.60</td>\n      <td>0.32</td>\n      <td>0.68</td>\n      <td>41.61</td>\n      <td>10.83</td>\n      <td>0.07</td>\n      <td>0.22</td>\n      <td>NaN</td>\n      <td>NaN</td>\n      <td>C</td>\n      <td>铅钡</td>\n      <td>深绿</td>\n      <td>风化</td>\n    </tr>\n    <tr>\n      <th>40</th>\n      <td>32.93</td>\n      <td>1.38</td>\n      <td>NaN</td>\n      <td>0.68</td>\n      <td>NaN</td>\n      <td>2.57</td>\n      <td>0.29</td>\n      <td>0.73</td>\n      <td>49.31</td>\n      <td>9.79</td>\n      <td>0.48</td>\n      <td>0.41</td>\n      <td>NaN</td>\n      <td>NaN</td>\n      <td>C</td>\n      <td>铅钡</td>\n      <td>深绿</td>\n      <td>风化</td>\n    </tr>\n    <tr>\n      <th>41</th>\n      <td>26.25</td>\n      <td>NaN</td>\n      <td>NaN</td>\n      <td>1.11</td>\n      <td>NaN</td>\n      <td>0.50</td>\n      <td>NaN</td>\n      <td>0.88</td>\n      <td>61.03</td>\n      <td>7.22</td>\n      <td>1.16</td>\n      <td>0.61</td>\n      <td>NaN</td>\n      <td>NaN</td>\n      <td>C</td>\n      <td>铅钡</td>\n      <td>深绿</td>\n      <td>风化</td>\n    </tr>\n    <tr>\n      <th>42</th>\n      <td>16.71</td>\n      <td>NaN</td>\n      <td>NaN</td>\n      <td>1.87</td>\n      <td>NaN</td>\n      <td>0.45</td>\n      <td>0.19</td>\n      <td>NaN</td>\n      <td>70.21</td>\n      <td>6.69</td>\n      <td>1.77</td>\n      <td>0.68</td>\n      <td>NaN</td>\n      <td>NaN</td>\n      <td>C</td>\n      <td>铅钡</td>\n      <td>NaN</td>\n      <td>风化</td>\n    </tr>\n    <tr>\n      <th>43</th>\n      <td>18.46</td>\n      <td>NaN</td>\n      <td>0.44</td>\n      <td>4.96</td>\n      <td>2.73</td>\n      <td>3.33</td>\n      <td>1.79</td>\n      <td>0.19</td>\n      <td>44.12</td>\n      <td>9.76</td>\n      <td>7.46</td>\n      <td>0.47</td>\n      <td>NaN</td>\n      <td>NaN</td>\n      <td>C</td>\n      <td>铅钡</td>\n      <td>浅绿</td>\n      <td>风化</td>\n    </tr>\n    <tr>\n      <th>46</th>\n      <td>12.41</td>\n      <td>0.00</td>\n      <td>0.00</td>\n      <td>5.24</td>\n      <td>0.89</td>\n      <td>2.25</td>\n      <td>0.76</td>\n      <td>5.35</td>\n      <td>59.85</td>\n      <td>7.29</td>\n      <td>NaN</td>\n      <td>0.64</td>\n      <td>NaN</td>\n      <td>NaN</td>\n      <td>C</td>\n      <td>铅钡</td>\n      <td>浅蓝</td>\n      <td>风化</td>\n    </tr>\n    <tr>\n      <th>47</th>\n      <td>21.70</td>\n      <td>NaN</td>\n      <td>NaN</td>\n      <td>6.40</td>\n      <td>0.95</td>\n      <td>3.41</td>\n      <td>1.39</td>\n      <td>1.51</td>\n      <td>44.75</td>\n      <td>3.26</td>\n      <td>12.83</td>\n      <td>0.47</td>\n      <td>NaN</td>\n      <td>NaN</td>\n      <td>C</td>\n      <td>铅钡</td>\n      <td>浅蓝</td>\n      <td>风化</td>\n    </tr>\n    <tr>\n      <th>57</th>\n      <td>24.61</td>\n      <td>NaN</td>\n      <td>NaN</td>\n      <td>3.58</td>\n      <td>1.19</td>\n      <td>5.25</td>\n      <td>1.19</td>\n      <td>1.37</td>\n      <td>40.24</td>\n      <td>8.94</td>\n      <td>8.10</td>\n      <td>0.39</td>\n      <td>0.47</td>\n      <td>NaN</td>\n      <td>C</td>\n      <td>铅钡</td>\n      <td>浅蓝</td>\n      <td>风化</td>\n    </tr>\n    <tr>\n      <th>58</th>\n      <td>21.35</td>\n      <td>NaN</td>\n      <td>NaN</td>\n      <td>5.13</td>\n      <td>1.45</td>\n      <td>2.51</td>\n      <td>0.42</td>\n      <td>0.75</td>\n      <td>51.34</td>\n      <td>NaN</td>\n      <td>8.75</td>\n      <td>NaN</td>\n      <td>NaN</td>\n      <td>NaN</td>\n      <td>C</td>\n      <td>铅钡</td>\n      <td>浅蓝</td>\n      <td>风化</td>\n    </tr>\n    <tr>\n      <th>59</th>\n      <td>25.74</td>\n      <td>1.22</td>\n      <td>NaN</td>\n      <td>2.27</td>\n      <td>0.55</td>\n      <td>1.16</td>\n      <td>0.23</td>\n      <td>0.70</td>\n      <td>47.42</td>\n      <td>8.64</td>\n      <td>5.71</td>\n      <td>0.44</td>\n      <td>NaN</td>\n      <td>NaN</td>\n      <td>C</td>\n      <td>铅钡</td>\n      <td>浅蓝</td>\n      <td>风化</td>\n    </tr>\n    <tr>\n      <th>61</th>\n      <td>22.28</td>\n      <td>NaN</td>\n      <td>0.32</td>\n      <td>3.19</td>\n      <td>1.28</td>\n      <td>4.15</td>\n      <td>NaN</td>\n      <td>0.83</td>\n      <td>55.46</td>\n      <td>7.04</td>\n      <td>4.24</td>\n      <td>0.88</td>\n      <td>NaN</td>\n      <td>NaN</td>\n      <td>C</td>\n      <td>铅钡</td>\n      <td>浅蓝</td>\n      <td>风化</td>\n    </tr>\n    <tr>\n      <th>62</th>\n      <td>17.11</td>\n      <td>NaN</td>\n      <td>NaN</td>\n      <td>NaN</td>\n      <td>1.11</td>\n      <td>3.65</td>\n      <td>NaN</td>\n      <td>1.34</td>\n      <td>58.46</td>\n      <td>NaN</td>\n      <td>14.13</td>\n      <td>1.12</td>\n      <td>NaN</td>\n      <td>NaN</td>\n      <td>C</td>\n      <td>铅钡</td>\n      <td>浅蓝</td>\n      <td>风化</td>\n    </tr>\n    <tr>\n      <th>64</th>\n      <td>29.15</td>\n      <td>NaN</td>\n      <td>NaN</td>\n      <td>1.21</td>\n      <td>NaN</td>\n      <td>1.85</td>\n      <td>NaN</td>\n      <td>0.79</td>\n      <td>41.25</td>\n      <td>15.45</td>\n      <td>2.54</td>\n      <td>NaN</td>\n      <td>NaN</td>\n      <td>NaN</td>\n      <td>C</td>\n      <td>铅钡</td>\n      <td>蓝绿</td>\n      <td>风化</td>\n    </tr>\n    <tr>\n      <th>65</th>\n      <td>25.42</td>\n      <td>NaN</td>\n      <td>NaN</td>\n      <td>1.31</td>\n      <td>NaN</td>\n      <td>2.18</td>\n      <td>NaN</td>\n      <td>1.16</td>\n      <td>45.10</td>\n      <td>17.30</td>\n      <td>NaN</td>\n      <td>NaN</td>\n      <td>NaN</td>\n      <td>NaN</td>\n      <td>C</td>\n      <td>铅钡</td>\n      <td>蓝绿</td>\n      <td>风化</td>\n    </tr>\n    <tr>\n      <th>66</th>\n      <td>30.39</td>\n      <td>NaN</td>\n      <td>0.34</td>\n      <td>3.49</td>\n      <td>0.79</td>\n      <td>3.52</td>\n      <td>0.86</td>\n      <td>3.13</td>\n      <td>39.35</td>\n      <td>7.66</td>\n      <td>8.99</td>\n      <td>0.24</td>\n      <td>NaN</td>\n      <td>NaN</td>\n      <td>C</td>\n      <td>铅钡</td>\n      <td>NaN</td>\n      <td>风化</td>\n    </tr>\n  </tbody>\n</table>\n</div>"
     },
     "execution_count": 8,
     "metadata": {},
     "output_type": "execute_result"
    }
   ],
   "source": [
    "filter_df2 = df2_valid[(df2_valid.纹饰 == 'C') & (df2_valid.类型 == '铅钡') & (df2_valid.表面风化 == '风化')].drop(\n",
    "    ['文物编号', '文物采样点'], axis=1)\n",
    "filter_df2"
   ],
   "metadata": {
    "collapsed": false,
    "pycharm": {
     "name": "#%%\n"
    }
   }
  },
  {
   "cell_type": "code",
   "execution_count": 9,
   "outputs": [
    {
     "name": "stdout",
     "output_type": "stream",
     "text": [
      "['黑' '浅蓝']\n",
      "0.9117170731707317\n",
      "['深绿' '浅蓝']\n",
      "0.9324725050916497\n"
     ]
    }
   ],
   "source": [
    "X_train1 = filter_df1.drop(['纹饰', '类型', '颜色', '表面风化'], axis=1).fillna(0)[~filter_df1.颜色.isna().values]\n",
    "Y_train1 = filter_df1.颜色.dropna()\n",
    "X_pre1 = filter_df1.drop(['纹饰', '类型', '颜色', '表面风化'], axis=1).fillna(0)[filter_df1.颜色.isna().values]\n",
    "\n",
    "X_train2 = filter_df2.drop(['纹饰', '类型', '颜色', '表面风化'], axis=1).fillna(0)[~filter_df2.颜色.isna().values]\n",
    "Y_train2 = filter_df2.颜色.dropna()\n",
    "X_pre2 = filter_df2.drop(['纹饰', '类型', '颜色', '表面风化'], axis=1).fillna(0)[filter_df2.颜色.isna().values]\n",
    "from sklearn.ensemble import RandomForestRegressor\n",
    "from sklearn.preprocessing import LabelEncoder\n",
    "\n",
    "le1 = LabelEncoder().fit(Y_train1)\n",
    "rfr1 = RandomForestRegressor(random_state=2022, n_estimators=100)\n",
    "rfr1 = rfr1.fit(X_train1, le1.transform(Y_train1))\n",
    "res1 = le1.inverse_transform(rfr1.predict(X_pre1).round().astype('int'))\n",
    "score1 = rfr1.score(X_train1, le1.transform(Y_train1))\n",
    "print(res1)\n",
    "print(score1)\n",
    "le2 = LabelEncoder().fit(Y_train2)\n",
    "rfr2 = RandomForestRegressor(random_state=2022, n_estimators=100)\n",
    "rfr2 = rfr2.fit(X_train2, le2.transform(Y_train2))\n",
    "res2 = le2.inverse_transform(rfr2.predict(X_pre2).round().astype('int'))\n",
    "score2 = rfr2.score(X_train2, le2.transform(Y_train2))\n",
    "print(res2)\n",
    "print(score2)\n",
    "df2_valid.iloc[19, 18] = res1[0]\n",
    "df2_valid.iloc[42, 18] = res2[0]\n",
    "df2_valid.iloc[52, 18] = res1[1]\n",
    "df2_valid.iloc[66, 18] = res2[1]\n",
    "df2_valid.fillna(0, inplace=True)\n",
    "df2_valid.to_excel('文物样品信息汇总-填补缺失值.xlsx', index=False)"
   ],
   "metadata": {
    "collapsed": false,
    "pycharm": {
     "name": "#%%\n"
    }
   }
  },
  {
   "cell_type": "code",
   "execution_count": 9,
   "outputs": [],
   "source": [],
   "metadata": {
    "collapsed": false,
    "pycharm": {
     "name": "#%%\n"
    }
   }
  }
 ],
 "metadata": {
  "kernelspec": {
   "display_name": "Python 3",
   "language": "python",
   "name": "python3"
  },
  "language_info": {
   "codemirror_mode": {
    "name": "ipython",
    "version": 2
   },
   "file_extension": ".py",
   "mimetype": "text/x-python",
   "name": "python",
   "nbconvert_exporter": "python",
   "pygments_lexer": "ipython2",
   "version": "2.7.6"
  }
 },
 "nbformat": 4,
 "nbformat_minor": 0
}