{
 "cells": [
  {
   "cell_type": "code",
   "execution_count": 1,
   "metadata": {
    "collapsed": true
   },
   "outputs": [],
   "source": [
    "import pandas as pd\n",
    "import numpy as np"
   ]
  },
  {
   "cell_type": "code",
   "execution_count": 2,
   "outputs": [],
   "source": [
    "df1 = pd.read_excel('附件.xlsx', sheet_name=0)\n",
    "df1_valid = pd.read_excel('表1-填补缺失值.xlsx')\n",
    "df2 = pd.read_excel('附件.xlsx', sheet_name=1)\n",
    "df2_valid = pd.read_excel('文物样品信息汇总-填补缺失值.xlsx')\n",
    "# df3 = pd.read_excel('附件.xlsx', sheet_name=2)"
   ],
   "metadata": {
    "collapsed": false,
    "pycharm": {
     "name": "#%%\n"
    }
   }
  },
  {
   "cell_type": "markdown",
   "source": [
    "卡方分析"
   ],
   "metadata": {
    "collapsed": false,
    "pycharm": {
     "name": "#%% md\n"
    }
   }
  },
  {
   "cell_type": "code",
   "execution_count": 3,
   "outputs": [
    {
     "name": "stdout",
     "output_type": "stream",
     "text": [
      "[0.02938188 0.74329816 0.55800793]\n"
     ]
    }
   ],
   "source": [
    "from sklearn.feature_selection import chi2\n",
    "from sklearn.preprocessing import LabelEncoder\n",
    "rel_y = df1_valid.表面风化\n",
    "rel_cls = LabelEncoder().fit(df1_valid.类型).transform(df1_valid.类型)\n",
    "rel_wen = LabelEncoder().fit(df1_valid.纹饰).transform(df1_valid.纹饰)\n",
    "rel_col = LabelEncoder().fit(df1_valid.颜色).transform(df1_valid.颜色)\n",
    "rel_X = np.array([rel_cls,rel_wen,rel_col]).T\n",
    "chi2s, chi2_p_values = chi2(rel_X, rel_y)\n",
    "print(chi2_p_values)"
   ],
   "metadata": {
    "collapsed": false,
    "pycharm": {
     "name": "#%%\n"
    }
   }
  },
  {
   "cell_type": "code",
   "execution_count": 4,
   "outputs": [
    {
     "name": "stdout",
     "output_type": "stream",
     "text": [
      "[5.08882815e-01 1.72327412e-05]\n"
     ]
    }
   ],
   "source": [
    "# rel_y = df1_valid.类型\n",
    "# rel_wen = LabelEncoder().fit(df1_valid.纹饰).transform(df1_valid.纹饰)\n",
    "# rel_col = LabelEncoder().fit(df1_valid.颜色).transform(df1_valid.颜色)\n",
    "# rel_X = np.array([rel_wen,rel_col]).T\n",
    "# chi2s, chi2_p_values = chi2(rel_X, rel_y)\n",
    "# print(chi2_p_values)"
   ],
   "metadata": {
    "collapsed": false,
    "pycharm": {
     "name": "#%%\n"
    }
   }
  },
  {
   "cell_type": "markdown",
   "source": [
    "对这些玻璃文物的表面风化与其玻璃类型、纹饰和颜色的关系进行分析(见excel图)"
   ],
   "metadata": {
    "collapsed": false,
    "pycharm": {
     "name": "#%% md\n"
    }
   }
  },
  {
   "cell_type": "code",
   "execution_count": 5,
   "outputs": [
    {
     "data": {
      "text/plain": "    文物编号    文物采样点  二氧化硅(SiO2)  氧化钠(Na2O)  氧化钾(K2O)  氧化钙(CaO)  氧化镁(MgO)  \\\n0      1       01       69.33       0.00      9.99      6.32      0.87   \n1      2       02       36.28       0.00      1.05      2.34      1.18   \n2      3    03部位2       61.71       0.00     12.37      5.87      1.11   \n3      3    03部位1       87.05       0.00      5.19      2.01      0.00   \n4      4       04       65.88       0.00      9.67      7.12      1.56   \n..   ...      ...         ...        ...       ...       ...       ...   \n62    54  54严重风化点       17.11       0.00      0.00      0.00      1.11   \n63    55       55       49.01       2.71      0.00      1.13      0.00   \n64    56       56       29.15       0.00      0.00      1.21      0.00   \n65    57       57       25.42       0.00      0.00      1.31      0.00   \n66    58       58       30.39       0.00      0.34      3.49      0.79   \n\n    氧化铝(Al2O3)  氧化铁(Fe2O3)  氧化铜(CuO)  氧化铅(PbO)  氧化钡(BaO)  五氧化二磷(P2O5)  \\\n0         3.93        1.74      3.87      0.00      0.00         1.17   \n1         5.73        1.86      0.26     47.43      0.00         3.57   \n2         5.50        2.16      5.09      1.41      2.86         0.70   \n3         4.06        0.00      0.78      0.25      0.00         0.66   \n4         6.44        2.06      2.18      0.00      0.00         0.79   \n..         ...         ...       ...       ...       ...          ...   \n62        3.65        0.00      1.34     58.46      0.00        14.13   \n63        1.45        0.00      0.86     32.92      7.95         0.35   \n64        1.85        0.00      0.79     41.25     15.45         2.54   \n65        2.18        0.00      1.16     45.10     17.30         0.00   \n66        3.52        0.86      3.13     39.35      7.66         8.99   \n\n    氧化锶(SrO)  氧化锡(SnO2)  二氧化硫(SO2) 纹饰  类型  颜色 表面风化  \n0       0.00        0.0       0.39  C  高钾  蓝绿  无风化  \n1       0.19        0.0       0.00  A  铅钡  浅蓝   风化  \n2       0.10        0.0       0.00  A  高钾  蓝绿  无风化  \n3       0.00        0.0       0.00  A  高钾  蓝绿  无风化  \n4       0.00        0.0       0.36  A  高钾  蓝绿  无风化  \n..       ...        ...        ... ..  ..  ..  ...  \n62      1.12        0.0       0.00  C  铅钡  浅蓝   风化  \n63      0.00        0.0       0.00  C  铅钡   绿  无风化  \n64      0.00        0.0       0.00  C  铅钡  蓝绿   风化  \n65      0.00        0.0       0.00  C  铅钡  蓝绿   风化  \n66      0.24        0.0       0.00  C  铅钡  浅蓝   风化  \n\n[67 rows x 20 columns]",
      "text/html": "<div>\n<style scoped>\n    .dataframe tbody tr th:only-of-type {\n        vertical-align: middle;\n    }\n\n    .dataframe tbody tr th {\n        vertical-align: top;\n    }\n\n    .dataframe thead th {\n        text-align: right;\n    }\n</style>\n<table border=\"1\" class=\"dataframe\">\n  <thead>\n    <tr style=\"text-align: right;\">\n      <th></th>\n      <th>文物编号</th>\n      <th>文物采样点</th>\n      <th>二氧化硅(SiO2)</th>\n      <th>氧化钠(Na2O)</th>\n      <th>氧化钾(K2O)</th>\n      <th>氧化钙(CaO)</th>\n      <th>氧化镁(MgO)</th>\n      <th>氧化铝(Al2O3)</th>\n      <th>氧化铁(Fe2O3)</th>\n      <th>氧化铜(CuO)</th>\n      <th>氧化铅(PbO)</th>\n      <th>氧化钡(BaO)</th>\n      <th>五氧化二磷(P2O5)</th>\n      <th>氧化锶(SrO)</th>\n      <th>氧化锡(SnO2)</th>\n      <th>二氧化硫(SO2)</th>\n      <th>纹饰</th>\n      <th>类型</th>\n      <th>颜色</th>\n      <th>表面风化</th>\n    </tr>\n  </thead>\n  <tbody>\n    <tr>\n      <th>0</th>\n      <td>1</td>\n      <td>01</td>\n      <td>69.33</td>\n      <td>0.00</td>\n      <td>9.99</td>\n      <td>6.32</td>\n      <td>0.87</td>\n      <td>3.93</td>\n      <td>1.74</td>\n      <td>3.87</td>\n      <td>0.00</td>\n      <td>0.00</td>\n      <td>1.17</td>\n      <td>0.00</td>\n      <td>0.0</td>\n      <td>0.39</td>\n      <td>C</td>\n      <td>高钾</td>\n      <td>蓝绿</td>\n      <td>无风化</td>\n    </tr>\n    <tr>\n      <th>1</th>\n      <td>2</td>\n      <td>02</td>\n      <td>36.28</td>\n      <td>0.00</td>\n      <td>1.05</td>\n      <td>2.34</td>\n      <td>1.18</td>\n      <td>5.73</td>\n      <td>1.86</td>\n      <td>0.26</td>\n      <td>47.43</td>\n      <td>0.00</td>\n      <td>3.57</td>\n      <td>0.19</td>\n      <td>0.0</td>\n      <td>0.00</td>\n      <td>A</td>\n      <td>铅钡</td>\n      <td>浅蓝</td>\n      <td>风化</td>\n    </tr>\n    <tr>\n      <th>2</th>\n      <td>3</td>\n      <td>03部位2</td>\n      <td>61.71</td>\n      <td>0.00</td>\n      <td>12.37</td>\n      <td>5.87</td>\n      <td>1.11</td>\n      <td>5.50</td>\n      <td>2.16</td>\n      <td>5.09</td>\n      <td>1.41</td>\n      <td>2.86</td>\n      <td>0.70</td>\n      <td>0.10</td>\n      <td>0.0</td>\n      <td>0.00</td>\n      <td>A</td>\n      <td>高钾</td>\n      <td>蓝绿</td>\n      <td>无风化</td>\n    </tr>\n    <tr>\n      <th>3</th>\n      <td>3</td>\n      <td>03部位1</td>\n      <td>87.05</td>\n      <td>0.00</td>\n      <td>5.19</td>\n      <td>2.01</td>\n      <td>0.00</td>\n      <td>4.06</td>\n      <td>0.00</td>\n      <td>0.78</td>\n      <td>0.25</td>\n      <td>0.00</td>\n      <td>0.66</td>\n      <td>0.00</td>\n      <td>0.0</td>\n      <td>0.00</td>\n      <td>A</td>\n      <td>高钾</td>\n      <td>蓝绿</td>\n      <td>无风化</td>\n    </tr>\n    <tr>\n      <th>4</th>\n      <td>4</td>\n      <td>04</td>\n      <td>65.88</td>\n      <td>0.00</td>\n      <td>9.67</td>\n      <td>7.12</td>\n      <td>1.56</td>\n      <td>6.44</td>\n      <td>2.06</td>\n      <td>2.18</td>\n      <td>0.00</td>\n      <td>0.00</td>\n      <td>0.79</td>\n      <td>0.00</td>\n      <td>0.0</td>\n      <td>0.36</td>\n      <td>A</td>\n      <td>高钾</td>\n      <td>蓝绿</td>\n      <td>无风化</td>\n    </tr>\n    <tr>\n      <th>...</th>\n      <td>...</td>\n      <td>...</td>\n      <td>...</td>\n      <td>...</td>\n      <td>...</td>\n      <td>...</td>\n      <td>...</td>\n      <td>...</td>\n      <td>...</td>\n      <td>...</td>\n      <td>...</td>\n      <td>...</td>\n      <td>...</td>\n      <td>...</td>\n      <td>...</td>\n      <td>...</td>\n      <td>...</td>\n      <td>...</td>\n      <td>...</td>\n      <td>...</td>\n    </tr>\n    <tr>\n      <th>62</th>\n      <td>54</td>\n      <td>54严重风化点</td>\n      <td>17.11</td>\n      <td>0.00</td>\n      <td>0.00</td>\n      <td>0.00</td>\n      <td>1.11</td>\n      <td>3.65</td>\n      <td>0.00</td>\n      <td>1.34</td>\n      <td>58.46</td>\n      <td>0.00</td>\n      <td>14.13</td>\n      <td>1.12</td>\n      <td>0.0</td>\n      <td>0.00</td>\n      <td>C</td>\n      <td>铅钡</td>\n      <td>浅蓝</td>\n      <td>风化</td>\n    </tr>\n    <tr>\n      <th>63</th>\n      <td>55</td>\n      <td>55</td>\n      <td>49.01</td>\n      <td>2.71</td>\n      <td>0.00</td>\n      <td>1.13</td>\n      <td>0.00</td>\n      <td>1.45</td>\n      <td>0.00</td>\n      <td>0.86</td>\n      <td>32.92</td>\n      <td>7.95</td>\n      <td>0.35</td>\n      <td>0.00</td>\n      <td>0.0</td>\n      <td>0.00</td>\n      <td>C</td>\n      <td>铅钡</td>\n      <td>绿</td>\n      <td>无风化</td>\n    </tr>\n    <tr>\n      <th>64</th>\n      <td>56</td>\n      <td>56</td>\n      <td>29.15</td>\n      <td>0.00</td>\n      <td>0.00</td>\n      <td>1.21</td>\n      <td>0.00</td>\n      <td>1.85</td>\n      <td>0.00</td>\n      <td>0.79</td>\n      <td>41.25</td>\n      <td>15.45</td>\n      <td>2.54</td>\n      <td>0.00</td>\n      <td>0.0</td>\n      <td>0.00</td>\n      <td>C</td>\n      <td>铅钡</td>\n      <td>蓝绿</td>\n      <td>风化</td>\n    </tr>\n    <tr>\n      <th>65</th>\n      <td>57</td>\n      <td>57</td>\n      <td>25.42</td>\n      <td>0.00</td>\n      <td>0.00</td>\n      <td>1.31</td>\n      <td>0.00</td>\n      <td>2.18</td>\n      <td>0.00</td>\n      <td>1.16</td>\n      <td>45.10</td>\n      <td>17.30</td>\n      <td>0.00</td>\n      <td>0.00</td>\n      <td>0.0</td>\n      <td>0.00</td>\n      <td>C</td>\n      <td>铅钡</td>\n      <td>蓝绿</td>\n      <td>风化</td>\n    </tr>\n    <tr>\n      <th>66</th>\n      <td>58</td>\n      <td>58</td>\n      <td>30.39</td>\n      <td>0.00</td>\n      <td>0.34</td>\n      <td>3.49</td>\n      <td>0.79</td>\n      <td>3.52</td>\n      <td>0.86</td>\n      <td>3.13</td>\n      <td>39.35</td>\n      <td>7.66</td>\n      <td>8.99</td>\n      <td>0.24</td>\n      <td>0.0</td>\n      <td>0.00</td>\n      <td>C</td>\n      <td>铅钡</td>\n      <td>浅蓝</td>\n      <td>风化</td>\n    </tr>\n  </tbody>\n</table>\n<p>67 rows × 20 columns</p>\n</div>"
     },
     "execution_count": 5,
     "metadata": {},
     "output_type": "execute_result"
    }
   ],
   "source": [
    "df2_valid"
   ],
   "metadata": {
    "collapsed": false,
    "pycharm": {
     "name": "#%%\n"
    }
   }
  },
  {
   "cell_type": "code",
   "execution_count": 6,
   "outputs": [
    {
     "data": {
      "text/plain": "      文物采样点  二氧化硅(SiO2)  氧化钠(Na2O)  氧化钾(K2O)  氧化钙(CaO)  氧化镁(MgO)  氧化铝(Al2O3)  \\\n0        01       69.33       0.00      9.99      6.32      0.87        3.93   \n1        02       36.28       0.00      1.05      2.34      1.18        5.73   \n2     03部位2       61.71       0.00     12.37      5.87      1.11        5.50   \n3     03部位1       87.05       0.00      5.19      2.01      0.00        4.06   \n4        04       65.88       0.00      9.67      7.12      1.56        6.44   \n..      ...         ...        ...       ...       ...       ...         ...   \n62  54严重风化点       17.11       0.00      0.00      0.00      1.11        3.65   \n63       55       49.01       2.71      0.00      1.13      0.00        1.45   \n64       56       29.15       0.00      0.00      1.21      0.00        1.85   \n65       57       25.42       0.00      0.00      1.31      0.00        2.18   \n66       58       30.39       0.00      0.34      3.49      0.79        3.52   \n\n    氧化铁(Fe2O3)  氧化铜(CuO)  氧化铅(PbO)  氧化钡(BaO)  五氧化二磷(P2O5)  氧化锶(SrO)  \\\n0         1.74      3.87      0.00      0.00         1.17      0.00   \n1         1.86      0.26     47.43      0.00         3.57      0.19   \n2         2.16      5.09      1.41      2.86         0.70      0.10   \n3         0.00      0.78      0.25      0.00         0.66      0.00   \n4         2.06      2.18      0.00      0.00         0.79      0.00   \n..         ...       ...       ...       ...          ...       ...   \n62        0.00      1.34     58.46      0.00        14.13      1.12   \n63        0.00      0.86     32.92      7.95         0.35      0.00   \n64        0.00      0.79     41.25     15.45         2.54      0.00   \n65        0.00      1.16     45.10     17.30         0.00      0.00   \n66        0.86      3.13     39.35      7.66         8.99      0.24   \n\n    氧化锡(SnO2)  二氧化硫(SO2)  类型 表面风化  \n0         0.0       0.39  高钾  无风化  \n1         0.0       0.00  铅钡   风化  \n2         0.0       0.00  高钾  无风化  \n3         0.0       0.00  高钾  无风化  \n4         0.0       0.36  高钾  无风化  \n..        ...        ...  ..  ...  \n62        0.0       0.00  铅钡   风化  \n63        0.0       0.00  铅钡  无风化  \n64        0.0       0.00  铅钡   风化  \n65        0.0       0.00  铅钡   风化  \n66        0.0       0.00  铅钡   风化  \n\n[67 rows x 17 columns]",
      "text/html": "<div>\n<style scoped>\n    .dataframe tbody tr th:only-of-type {\n        vertical-align: middle;\n    }\n\n    .dataframe tbody tr th {\n        vertical-align: top;\n    }\n\n    .dataframe thead th {\n        text-align: right;\n    }\n</style>\n<table border=\"1\" class=\"dataframe\">\n  <thead>\n    <tr style=\"text-align: right;\">\n      <th></th>\n      <th>文物采样点</th>\n      <th>二氧化硅(SiO2)</th>\n      <th>氧化钠(Na2O)</th>\n      <th>氧化钾(K2O)</th>\n      <th>氧化钙(CaO)</th>\n      <th>氧化镁(MgO)</th>\n      <th>氧化铝(Al2O3)</th>\n      <th>氧化铁(Fe2O3)</th>\n      <th>氧化铜(CuO)</th>\n      <th>氧化铅(PbO)</th>\n      <th>氧化钡(BaO)</th>\n      <th>五氧化二磷(P2O5)</th>\n      <th>氧化锶(SrO)</th>\n      <th>氧化锡(SnO2)</th>\n      <th>二氧化硫(SO2)</th>\n      <th>类型</th>\n      <th>表面风化</th>\n    </tr>\n  </thead>\n  <tbody>\n    <tr>\n      <th>0</th>\n      <td>01</td>\n      <td>69.33</td>\n      <td>0.00</td>\n      <td>9.99</td>\n      <td>6.32</td>\n      <td>0.87</td>\n      <td>3.93</td>\n      <td>1.74</td>\n      <td>3.87</td>\n      <td>0.00</td>\n      <td>0.00</td>\n      <td>1.17</td>\n      <td>0.00</td>\n      <td>0.0</td>\n      <td>0.39</td>\n      <td>高钾</td>\n      <td>无风化</td>\n    </tr>\n    <tr>\n      <th>1</th>\n      <td>02</td>\n      <td>36.28</td>\n      <td>0.00</td>\n      <td>1.05</td>\n      <td>2.34</td>\n      <td>1.18</td>\n      <td>5.73</td>\n      <td>1.86</td>\n      <td>0.26</td>\n      <td>47.43</td>\n      <td>0.00</td>\n      <td>3.57</td>\n      <td>0.19</td>\n      <td>0.0</td>\n      <td>0.00</td>\n      <td>铅钡</td>\n      <td>风化</td>\n    </tr>\n    <tr>\n      <th>2</th>\n      <td>03部位2</td>\n      <td>61.71</td>\n      <td>0.00</td>\n      <td>12.37</td>\n      <td>5.87</td>\n      <td>1.11</td>\n      <td>5.50</td>\n      <td>2.16</td>\n      <td>5.09</td>\n      <td>1.41</td>\n      <td>2.86</td>\n      <td>0.70</td>\n      <td>0.10</td>\n      <td>0.0</td>\n      <td>0.00</td>\n      <td>高钾</td>\n      <td>无风化</td>\n    </tr>\n    <tr>\n      <th>3</th>\n      <td>03部位1</td>\n      <td>87.05</td>\n      <td>0.00</td>\n      <td>5.19</td>\n      <td>2.01</td>\n      <td>0.00</td>\n      <td>4.06</td>\n      <td>0.00</td>\n      <td>0.78</td>\n      <td>0.25</td>\n      <td>0.00</td>\n      <td>0.66</td>\n      <td>0.00</td>\n      <td>0.0</td>\n      <td>0.00</td>\n      <td>高钾</td>\n      <td>无风化</td>\n    </tr>\n    <tr>\n      <th>4</th>\n      <td>04</td>\n      <td>65.88</td>\n      <td>0.00</td>\n      <td>9.67</td>\n      <td>7.12</td>\n      <td>1.56</td>\n      <td>6.44</td>\n      <td>2.06</td>\n      <td>2.18</td>\n      <td>0.00</td>\n      <td>0.00</td>\n      <td>0.79</td>\n      <td>0.00</td>\n      <td>0.0</td>\n      <td>0.36</td>\n      <td>高钾</td>\n      <td>无风化</td>\n    </tr>\n    <tr>\n      <th>...</th>\n      <td>...</td>\n      <td>...</td>\n      <td>...</td>\n      <td>...</td>\n      <td>...</td>\n      <td>...</td>\n      <td>...</td>\n      <td>...</td>\n      <td>...</td>\n      <td>...</td>\n      <td>...</td>\n      <td>...</td>\n      <td>...</td>\n      <td>...</td>\n      <td>...</td>\n      <td>...</td>\n      <td>...</td>\n    </tr>\n    <tr>\n      <th>62</th>\n      <td>54严重风化点</td>\n      <td>17.11</td>\n      <td>0.00</td>\n      <td>0.00</td>\n      <td>0.00</td>\n      <td>1.11</td>\n      <td>3.65</td>\n      <td>0.00</td>\n      <td>1.34</td>\n      <td>58.46</td>\n      <td>0.00</td>\n      <td>14.13</td>\n      <td>1.12</td>\n      <td>0.0</td>\n      <td>0.00</td>\n      <td>铅钡</td>\n      <td>风化</td>\n    </tr>\n    <tr>\n      <th>63</th>\n      <td>55</td>\n      <td>49.01</td>\n      <td>2.71</td>\n      <td>0.00</td>\n      <td>1.13</td>\n      <td>0.00</td>\n      <td>1.45</td>\n      <td>0.00</td>\n      <td>0.86</td>\n      <td>32.92</td>\n      <td>7.95</td>\n      <td>0.35</td>\n      <td>0.00</td>\n      <td>0.0</td>\n      <td>0.00</td>\n      <td>铅钡</td>\n      <td>无风化</td>\n    </tr>\n    <tr>\n      <th>64</th>\n      <td>56</td>\n      <td>29.15</td>\n      <td>0.00</td>\n      <td>0.00</td>\n      <td>1.21</td>\n      <td>0.00</td>\n      <td>1.85</td>\n      <td>0.00</td>\n      <td>0.79</td>\n      <td>41.25</td>\n      <td>15.45</td>\n      <td>2.54</td>\n      <td>0.00</td>\n      <td>0.0</td>\n      <td>0.00</td>\n      <td>铅钡</td>\n      <td>风化</td>\n    </tr>\n    <tr>\n      <th>65</th>\n      <td>57</td>\n      <td>25.42</td>\n      <td>0.00</td>\n      <td>0.00</td>\n      <td>1.31</td>\n      <td>0.00</td>\n      <td>2.18</td>\n      <td>0.00</td>\n      <td>1.16</td>\n      <td>45.10</td>\n      <td>17.30</td>\n      <td>0.00</td>\n      <td>0.00</td>\n      <td>0.0</td>\n      <td>0.00</td>\n      <td>铅钡</td>\n      <td>风化</td>\n    </tr>\n    <tr>\n      <th>66</th>\n      <td>58</td>\n      <td>30.39</td>\n      <td>0.00</td>\n      <td>0.34</td>\n      <td>3.49</td>\n      <td>0.79</td>\n      <td>3.52</td>\n      <td>0.86</td>\n      <td>3.13</td>\n      <td>39.35</td>\n      <td>7.66</td>\n      <td>8.99</td>\n      <td>0.24</td>\n      <td>0.0</td>\n      <td>0.00</td>\n      <td>铅钡</td>\n      <td>风化</td>\n    </tr>\n  </tbody>\n</table>\n<p>67 rows × 17 columns</p>\n</div>"
     },
     "execution_count": 6,
     "metadata": {},
     "output_type": "execute_result"
    }
   ],
   "source": [
    "df2_sta = df2_valid.drop(['文物编号', '纹饰', '颜色'],axis=1)\n",
    "df2_sta"
   ],
   "metadata": {
    "collapsed": false,
    "pycharm": {
     "name": "#%%\n"
    }
   }
  },
  {
   "cell_type": "code",
   "execution_count": 7,
   "outputs": [],
   "source": [
    "chemical_component_K = df2_sta[(df2_sta.类型 == '高钾')].drop(['类型'],axis=1)"
   ],
   "metadata": {
    "collapsed": false,
    "pycharm": {
     "name": "#%%\n"
    }
   }
  },
  {
   "cell_type": "code",
   "execution_count": 8,
   "outputs": [
    {
     "data": {
      "text/plain": "二氧化硅(SiO2)     93.963333\n氧化钠(Na2O)       0.000000\n氧化钾(K2O)        0.543333\n氧化钙(CaO)        0.870000\n氧化镁(MgO)        0.196667\n氧化铝(Al2O3)      1.930000\n氧化铁(Fe2O3)      0.265000\n氧化铜(CuO)        1.561667\n氧化铅(PbO)        0.000000\n氧化钡(BaO)        0.000000\n五氧化二磷(P2O5)     0.280000\n氧化锶(SrO)        0.000000\n氧化锡(SnO2)       0.000000\n二氧化硫(SO2)       0.000000\ndtype: float64"
     },
     "execution_count": 8,
     "metadata": {},
     "output_type": "execute_result"
    }
   ],
   "source": [
    "cck_whe_mean = chemical_component_K[chemical_component_K.表面风化 == '风化'].drop(['文物采样点','表面风化'],axis=1).mean()\n",
    "cck_whe_mean"
   ],
   "metadata": {
    "collapsed": false,
    "pycharm": {
     "name": "#%%\n"
    }
   }
  },
  {
   "cell_type": "code",
   "execution_count": 9,
   "outputs": [
    {
     "data": {
      "text/plain": "二氧化硅(SiO2)     67.984167\n氧化钠(Na2O)       0.695000\n氧化钾(K2O)        9.330833\n氧化钙(CaO)        5.332500\n氧化镁(MgO)        1.079167\n氧化铝(Al2O3)      6.620000\n氧化铁(Fe2O3)      1.931667\n氧化铜(CuO)        2.452500\n氧化铅(PbO)        0.411667\n氧化钡(BaO)        0.598333\n五氧化二磷(P2O5)     1.402500\n氧化锶(SrO)        0.041667\n氧化锡(SnO2)       0.196667\n二氧化硫(SO2)       0.101667\ndtype: float64"
     },
     "execution_count": 9,
     "metadata": {},
     "output_type": "execute_result"
    }
   ],
   "source": [
    "cck_no_whe_mean = chemical_component_K[chemical_component_K.表面风化 == '无风化'].drop(['文物采样点','表面风化'],axis=1).mean()\n",
    "cck_no_whe_mean"
   ],
   "metadata": {
    "collapsed": false,
    "pycharm": {
     "name": "#%%\n"
    }
   }
  },
  {
   "cell_type": "code",
   "execution_count": 10,
   "outputs": [
    {
     "data": {
      "text/plain": "二氧化硅(SiO2)     0.382136\n氧化钠(Na2O)     -1.000000\n氧化钾(K2O)      -0.941770\n氧化钙(CaO)      -0.836850\n氧化镁(MgO)      -0.817761\n氧化铝(Al2O3)    -0.708459\n氧化铁(Fe2O3)    -0.862813\n氧化铜(CuO)      -0.363235\n氧化铅(PbO)      -1.000000\n氧化钡(BaO)      -1.000000\n五氧化二磷(P2O5)   -0.800357\n氧化锶(SrO)      -1.000000\n氧化锡(SnO2)     -1.000000\n二氧化硫(SO2)     -1.000000\ndtype: float64"
     },
     "execution_count": 10,
     "metadata": {},
     "output_type": "execute_result"
    }
   ],
   "source": [
    "cck_whe_ratio = (cck_whe_mean - cck_no_whe_mean)/cck_no_whe_mean\n",
    "cck_whe_ratio"
   ],
   "metadata": {
    "collapsed": false,
    "pycharm": {
     "name": "#%%\n"
    }
   }
  },
  {
   "cell_type": "code",
   "execution_count": 11,
   "outputs": [],
   "source": [
    "pd.DataFrame([cck_no_whe_mean,cck_whe_mean,cck_whe_ratio],index=['无风化化学成分含量占比','风化化学成分含量占比','风化后化学成分含量变化率']).to_excel('高钾玻璃风化化学成分含量的变化_.xlsx')"
   ],
   "metadata": {
    "collapsed": false,
    "pycharm": {
     "name": "#%%\n"
    }
   }
  },
  {
   "cell_type": "code",
   "execution_count": 11,
   "outputs": [
    {
     "data": {
      "text/plain": "    二氧化硅(SiO2)  氧化钠(Na2O)  氧化钾(K2O)  氧化钙(CaO)  氧化镁(MgO)  氧化铝(Al2O3)  \\\n8        92.63        0.0      0.00      1.07      0.00        1.98   \n11       95.02        0.0      0.59      0.62      0.00        1.32   \n12       96.77        0.0      0.92      0.21      0.00        0.81   \n14       94.29        0.0      1.01      0.72      0.00        1.46   \n22       92.35        0.0      0.74      1.66      0.64        3.50   \n28       92.72        0.0      0.00      0.94      0.54        2.51   \n\n    氧化铁(Fe2O3)  氧化铜(CuO)  氧化铅(PbO)  氧化钡(BaO)  五氧化二磷(P2O5)  氧化锶(SrO)  \\\n8         0.17      3.24       0.0       0.0         0.61       0.0   \n11        0.32      1.55       0.0       0.0         0.35       0.0   \n12        0.26      0.84       0.0       0.0         0.00       0.0   \n14        0.29      1.65       0.0       0.0         0.15       0.0   \n22        0.35      0.55       0.0       0.0         0.21       0.0   \n28        0.20      1.54       0.0       0.0         0.36       0.0   \n\n    氧化锡(SnO2)  二氧化硫(SO2)  \n8         0.0        0.0  \n11        0.0        0.0  \n12        0.0        0.0  \n14        0.0        0.0  \n22        0.0        0.0  \n28        0.0        0.0  ",
      "text/html": "<div>\n<style scoped>\n    .dataframe tbody tr th:only-of-type {\n        vertical-align: middle;\n    }\n\n    .dataframe tbody tr th {\n        vertical-align: top;\n    }\n\n    .dataframe thead th {\n        text-align: right;\n    }\n</style>\n<table border=\"1\" class=\"dataframe\">\n  <thead>\n    <tr style=\"text-align: right;\">\n      <th></th>\n      <th>二氧化硅(SiO2)</th>\n      <th>氧化钠(Na2O)</th>\n      <th>氧化钾(K2O)</th>\n      <th>氧化钙(CaO)</th>\n      <th>氧化镁(MgO)</th>\n      <th>氧化铝(Al2O3)</th>\n      <th>氧化铁(Fe2O3)</th>\n      <th>氧化铜(CuO)</th>\n      <th>氧化铅(PbO)</th>\n      <th>氧化钡(BaO)</th>\n      <th>五氧化二磷(P2O5)</th>\n      <th>氧化锶(SrO)</th>\n      <th>氧化锡(SnO2)</th>\n      <th>二氧化硫(SO2)</th>\n    </tr>\n  </thead>\n  <tbody>\n    <tr>\n      <th>8</th>\n      <td>92.63</td>\n      <td>0.0</td>\n      <td>0.00</td>\n      <td>1.07</td>\n      <td>0.00</td>\n      <td>1.98</td>\n      <td>0.17</td>\n      <td>3.24</td>\n      <td>0.0</td>\n      <td>0.0</td>\n      <td>0.61</td>\n      <td>0.0</td>\n      <td>0.0</td>\n      <td>0.0</td>\n    </tr>\n    <tr>\n      <th>11</th>\n      <td>95.02</td>\n      <td>0.0</td>\n      <td>0.59</td>\n      <td>0.62</td>\n      <td>0.00</td>\n      <td>1.32</td>\n      <td>0.32</td>\n      <td>1.55</td>\n      <td>0.0</td>\n      <td>0.0</td>\n      <td>0.35</td>\n      <td>0.0</td>\n      <td>0.0</td>\n      <td>0.0</td>\n    </tr>\n    <tr>\n      <th>12</th>\n      <td>96.77</td>\n      <td>0.0</td>\n      <td>0.92</td>\n      <td>0.21</td>\n      <td>0.00</td>\n      <td>0.81</td>\n      <td>0.26</td>\n      <td>0.84</td>\n      <td>0.0</td>\n      <td>0.0</td>\n      <td>0.00</td>\n      <td>0.0</td>\n      <td>0.0</td>\n      <td>0.0</td>\n    </tr>\n    <tr>\n      <th>14</th>\n      <td>94.29</td>\n      <td>0.0</td>\n      <td>1.01</td>\n      <td>0.72</td>\n      <td>0.00</td>\n      <td>1.46</td>\n      <td>0.29</td>\n      <td>1.65</td>\n      <td>0.0</td>\n      <td>0.0</td>\n      <td>0.15</td>\n      <td>0.0</td>\n      <td>0.0</td>\n      <td>0.0</td>\n    </tr>\n    <tr>\n      <th>22</th>\n      <td>92.35</td>\n      <td>0.0</td>\n      <td>0.74</td>\n      <td>1.66</td>\n      <td>0.64</td>\n      <td>3.50</td>\n      <td>0.35</td>\n      <td>0.55</td>\n      <td>0.0</td>\n      <td>0.0</td>\n      <td>0.21</td>\n      <td>0.0</td>\n      <td>0.0</td>\n      <td>0.0</td>\n    </tr>\n    <tr>\n      <th>28</th>\n      <td>92.72</td>\n      <td>0.0</td>\n      <td>0.00</td>\n      <td>0.94</td>\n      <td>0.54</td>\n      <td>2.51</td>\n      <td>0.20</td>\n      <td>1.54</td>\n      <td>0.0</td>\n      <td>0.0</td>\n      <td>0.36</td>\n      <td>0.0</td>\n      <td>0.0</td>\n      <td>0.0</td>\n    </tr>\n  </tbody>\n</table>\n</div>"
     },
     "execution_count": 11,
     "metadata": {},
     "output_type": "execute_result"
    }
   ],
   "source": [
    "cck_whe = chemical_component_K[chemical_component_K.表面风化 == '风化'].drop(['文物采样点','表面风化'],axis=1)\n",
    "cck_whe"
   ],
   "metadata": {
    "collapsed": false,
    "pycharm": {
     "name": "#%%\n"
    }
   }
  },
  {
   "cell_type": "code",
   "execution_count": 12,
   "outputs": [
    {
     "data": {
      "text/plain": "array([[6.55721753e-01, 6.79991319e-03, 9.12933189e-02, 6.41673277e-02,\n        1.05586182e-02, 6.64483857e-02, 1.21242197e-02, 4.97833651e-02,\n        4.02776633e-03, 5.85412191e-03, 2.98946338e-02, 4.07668656e-04,\n        1.92419606e-03, 9.94711522e-04],\n       [7.09826295e-01, 7.17583590e-03, 1.04614959e-01, 3.92365664e-02,\n        1.11423351e-02, 4.67479214e-02, 2.40837430e-02, 2.51327533e-02,\n        4.25043517e-03, 6.17775800e-03, 1.81009170e-02, 4.30205989e-04,\n        2.03057227e-03, 1.04970261e-03],\n       [7.17212028e-01, 7.11938148e-03, 1.61845031e-01, 1.31852499e-02,\n        1.10546751e-02, 2.84605415e-02, 1.94140936e-02, 1.35131756e-02,\n        4.21699574e-03, 6.12915576e-03, 1.43668094e-02, 4.26821432e-04,\n        2.01459716e-03, 1.04144429e-03],\n       [6.58707938e-01, 6.71062086e-03, 1.67476299e-01, 4.26110274e-02,\n        1.04199688e-02, 4.83538918e-02, 2.04109025e-02, 2.50197242e-02,\n        3.97487614e-03, 5.77724913e-03, 7.25460875e-03, 4.02315399e-04,\n        1.89892868e-03, 9.81649574e-04],\n       [5.98027909e-01, 6.22042407e-03, 1.13742034e-01, 9.10657122e-02,\n        3.14320660e-02, 1.07449380e-01, 2.28343969e-02, 7.73069526e-03,\n        3.68451977e-03, 5.35523319e-03, 9.41454471e-03, 3.72927103e-04,\n        1.76021592e-03, 9.09942130e-04],\n       [6.61100686e-01, 6.84903880e-03, 9.19528626e-02, 5.67785486e-02,\n        2.92009074e-02, 8.48436265e-02, 1.43668358e-02, 2.38334119e-02,\n        4.05686471e-03, 5.89641469e-03, 1.77701937e-02, 4.10613837e-04,\n        1.93809731e-03, 1.00189776e-03]])"
     },
     "execution_count": 12,
     "metadata": {},
     "output_type": "execute_result"
    }
   ],
   "source": [
    "cck_ratio_idx = 0\n",
    "cck_whe = chemical_component_K[chemical_component_K.表面风化 == '风化'].drop(['文物采样点','表面风化'],axis=1)\n",
    "cck_whe_pred = np.zeros(cck_whe.shape)\n",
    "for cck in cck_whe_mean:\n",
    "    cck_ratio = cck_whe_ratio[cck_ratio_idx]\n",
    "    cck_whe_each = cck_whe.iloc[:,cck_ratio_idx]\n",
    "    if cck_ratio == -1:\n",
    "        # 风化后化学成分直接消失了的，按均值预测\n",
    "        cck_whe_pred[:,cck_ratio_idx] = cck_no_whe_mean[cck_ratio_idx]\n",
    "    else:\n",
    "        # 风化后化学成分直接消失了的，按均值预测，没有消失的按比例预测\n",
    "        tmp = cck_whe.iloc[:,cck_ratio_idx]\n",
    "        cck_whe_pred[:,cck_ratio_idx] = np.where(tmp==0,cck_no_whe_mean[cck_ratio_idx],tmp/(1+cck_ratio))\n",
    "    cck_ratio_idx += 1\n",
    "cck_pre_res = cck_whe_pred / cck_whe_pred.sum(axis=1).reshape(-1,1)\n",
    "cck_pre_res"
   ],
   "metadata": {
    "collapsed": false,
    "pycharm": {
     "name": "#%%\n"
    }
   }
  },
  {
   "cell_type": "code",
   "execution_count": 25,
   "outputs": [],
   "source": [
    "# 生成预测结果\n",
    "k_number = df2_valid.loc[cck_whe.index]['文物编号']\n",
    "k_pre_df = pd.DataFrame(cck_pre_res,index=k_number,columns=cck_whe.columns)\n",
    "k_pre_df.to_excel('高钾风化点预测结果_.xlsx')"
   ],
   "metadata": {
    "collapsed": false,
    "pycharm": {
     "name": "#%%\n"
    }
   }
  },
  {
   "cell_type": "code",
   "execution_count": 23,
   "outputs": [
    {
     "data": {
      "text/plain": "二氧化硅(SiO2)     0.666766\n氧化钠(Na2O)      0.006813\n氧化钾(K2O)       0.121821\n氧化钙(CaO)       0.051174\n氧化镁(MgO)       0.017301\n氧化铝(Al2O3)     0.063717\n氧化铁(Fe2O3)     0.018872\n氧化铜(CuO)       0.024169\n氧化铅(PbO)       0.004035\n氧化钡(BaO)       0.005865\n五氧化二磷(P2O5)    0.016134\n氧化锶(SrO)       0.000408\n氧化锡(SnO2)      0.001928\n二氧化硫(SO2)      0.000997\ndtype: float64"
     },
     "execution_count": 23,
     "metadata": {},
     "output_type": "execute_result"
    }
   ],
   "source": [
    "# 分析预测结果\n",
    "k_pre_df.mean()"
   ],
   "metadata": {
    "collapsed": false,
    "pycharm": {
     "name": "#%%\n"
    }
   }
  },
  {
   "cell_type": "code",
   "execution_count": 24,
   "outputs": [
    {
     "data": {
      "text/plain": "二氧化硅(SiO2)     67.984167\n氧化钠(Na2O)       0.695000\n氧化钾(K2O)        9.330833\n氧化钙(CaO)        5.332500\n氧化镁(MgO)        1.079167\n氧化铝(Al2O3)      6.620000\n氧化铁(Fe2O3)      1.931667\n氧化铜(CuO)        2.452500\n氧化铅(PbO)        0.411667\n氧化钡(BaO)        0.598333\n五氧化二磷(P2O5)     1.402500\n氧化锶(SrO)        0.041667\n氧化锡(SnO2)       0.196667\n二氧化硫(SO2)       0.101667\ndtype: float64"
     },
     "execution_count": 24,
     "metadata": {},
     "output_type": "execute_result"
    }
   ],
   "source": [
    "cck_no_whe_mean"
   ],
   "metadata": {
    "collapsed": false,
    "pycharm": {
     "name": "#%%\n"
    }
   }
  },
  {
   "cell_type": "code",
   "execution_count": 13,
   "outputs": [
    {
     "data": {
      "text/plain": "      文物采样点  二氧化硅(SiO2)  氧化钠(Na2O)  氧化钾(K2O)  氧化钙(CaO)  氧化镁(MgO)  氧化铝(Al2O3)  \\\n1        02       36.28       0.00      1.05      2.34      1.18        5.73   \n9        08       20.14       0.00      0.00      1.48      0.00        1.34   \n10  08严重风化点        4.61       0.00      0.00      3.19      0.00        1.11   \n13       11       33.59       0.00      0.21      3.51      0.71        2.69   \n19       19       29.64       0.00      0.00      2.93      0.59        3.57   \n20       20       37.36       0.00      0.71      0.00      0.00        5.45   \n23   23未风化点       53.79       7.92      0.00      0.50      0.71        1.42   \n24       24       31.94       0.00      0.00      0.47      0.00        1.59   \n25   25未风化点       50.61       2.31      0.00      0.63      0.00        1.90   \n26  26严重风化点        3.72       0.00      0.40      3.01      0.00        1.18   \n27       26       19.79       0.00      0.00      1.44      0.00        0.70   \n29   28未风化点       68.08       0.00      0.26      1.34      1.00        4.70   \n30   29未风化点       63.30       0.92      0.30      2.98      1.49       14.34   \n31    30部位1       34.34       0.00      1.41      4.49      0.98        4.35   \n32    30部位2       36.93       0.00      0.00      4.24      0.51        3.86   \n33       31       65.91       0.00      0.00      1.60      0.89        3.11   \n34       32       69.71       0.00      0.21      0.46      0.00        2.36   \n35       33       75.51       0.00      0.15      0.64      1.00        2.35   \n36       34       35.78       0.00      0.25      0.78      0.00        1.62   \n37       35       65.91       0.00      0.00      0.38      0.00        1.44   \n38       36       39.57       2.22      0.14      0.37      0.00        1.60   \n39       37       60.12       0.00      0.23      0.89      0.00        2.72   \n40       38       32.93       1.38      0.00      0.68      0.00        2.57   \n41       39       26.25       0.00      0.00      1.11      0.00        0.50   \n42       40       16.71       0.00      0.00      1.87      0.00        0.45   \n43       41       18.46       0.00      0.44      4.96      2.73        3.33   \n44  42未风化点2       51.33       5.68      0.35      0.00      1.16        5.66   \n45  42未风化点1       51.26       5.74      0.15      0.79      1.09        3.53   \n46    43部位1       12.41       0.00      0.00      5.24      0.89        2.25   \n47    43部位2       21.70       0.00      0.00      6.40      0.95        3.41   \n48   44未风化点       60.74       3.06      0.20      2.14      0.00       12.69   \n49       45       61.28       2.66      0.11      0.84      0.74        5.00   \n50       46       55.21       0.00      0.25      0.00      1.67        4.79   \n51       47       51.54       4.66      0.29      0.87      0.61        3.06   \n52       48       53.33       0.80      0.32      2.82      1.54       13.65   \n53   49未风化点       54.61       0.00      0.30      2.08      1.20        6.50   \n54       49       28.79       0.00      0.00      4.58      1.47        5.38   \n55       50       17.98       0.00      0.00      3.19      0.47        1.87   \n56   50未风化点       45.02       0.00      0.00      3.12      0.54        4.16   \n57    51部位1       24.61       0.00      0.00      3.58      1.19        5.25   \n58    51部位2       21.35       0.00      0.00      5.13      1.45        2.51   \n59       52       25.74       1.22      0.00      2.27      0.55        1.16   \n60   53未风化点       63.66       3.04      0.11      0.78      1.14        6.06   \n61       54       22.28       0.00      0.32      3.19      1.28        4.15   \n62  54严重风化点       17.11       0.00      0.00      0.00      1.11        3.65   \n63       55       49.01       2.71      0.00      1.13      0.00        1.45   \n64       56       29.15       0.00      0.00      1.21      0.00        1.85   \n65       57       25.42       0.00      0.00      1.31      0.00        2.18   \n66       58       30.39       0.00      0.34      3.49      0.79        3.52   \n\n    氧化铁(Fe2O3)  氧化铜(CuO)  氧化铅(PbO)  氧化钡(BaO)  五氧化二磷(P2O5)  氧化锶(SrO)  \\\n1         1.86      0.26     47.43      0.00         3.57      0.19   \n9         0.00     10.41     28.68     31.23         3.59      0.37   \n10        0.00      3.14     32.45     30.62         7.56      0.53   \n13        0.00      4.93     25.39     14.61         9.38      0.37   \n19        1.33      3.51     42.82      5.35         8.83      0.19   \n20        1.51      4.78      9.30     23.55         5.75      0.00   \n23        0.00      2.99     16.98     11.86         0.00      0.33   \n24        0.00      8.46     29.14     26.23         0.14      0.91   \n25        1.55      1.12     31.90      6.65         0.19      0.20   \n26        0.00      3.60     29.92     35.45         6.04      0.62   \n27        0.00     10.57     29.53     32.25         3.13      0.45   \n29        0.41      0.33     17.14      4.04         1.04      0.12   \n30        0.81      0.74     12.31      2.03         0.41      0.25   \n31        2.12      0.00     39.22     10.29         0.00      0.35   \n32        2.74      0.00     37.74     10.35         1.41      0.48   \n33        4.59      0.44     16.55      3.42         1.62      0.30   \n34        1.00      0.11     19.76      4.88         0.17      0.00   \n35        0.00      0.47     16.16      3.55         0.13      0.00   \n36        0.47      1.51     46.55     10.00         0.34      0.22   \n37        0.17      0.16     22.05      5.68         0.42      0.00   \n38        0.32      0.68     41.61     10.83         0.07      0.22   \n39        0.00      3.01     17.24     10.34         1.46      0.31   \n40        0.29      0.73     49.31      9.79         0.48      0.41   \n41        0.00      0.88     61.03      7.22         1.16      0.61   \n42        0.19      0.00     70.21      6.69         1.77      0.68   \n43        1.79      0.19     44.12      9.76         7.46      0.47   \n44        0.00      2.72     20.12     10.88         0.00      0.00   \n45        0.00      2.67     21.88     10.47         0.08      0.35   \n46        0.76      5.35     59.85      7.29         0.00      0.64   \n47        1.39      1.51     44.75      3.26        12.83      0.47   \n48        0.77      0.43     13.61      5.22         0.00      0.26   \n49        0.00      0.53     15.99     10.96         0.00      0.23   \n50        0.00      0.77     25.25     10.06         0.20      0.43   \n51        0.00      0.65     25.40      9.23         0.10      0.85   \n52        1.03      0.00     15.71      7.31         1.10      0.25   \n53        1.27      0.45     23.02      4.19         4.32      0.30   \n54        2.74      0.70     34.18      6.10        11.10      0.46   \n55        0.33      1.13     44.00     14.20         6.34      0.66   \n56        0.00      0.70     30.61      6.22         6.34      0.23   \n57        1.19      1.37     40.24      8.94         8.10      0.39   \n58        0.42      0.75     51.34      0.00         8.75      0.00   \n59        0.23      0.70     47.42      8.64         5.71      0.44   \n60        0.00      0.54     13.66      8.99         0.00      0.27   \n61        0.00      0.83     55.46      7.04         4.24      0.88   \n62        0.00      1.34     58.46      0.00        14.13      1.12   \n63        0.00      0.86     32.92      7.95         0.35      0.00   \n64        0.00      0.79     41.25     15.45         2.54      0.00   \n65        0.00      1.16     45.10     17.30         0.00      0.00   \n66        0.86      3.13     39.35      7.66         8.99      0.24   \n\n    氧化锡(SnO2)  二氧化硫(SO2) 表面风化  \n1        0.00       0.00   风化  \n9        0.00       2.58   风化  \n10       0.00      15.03   风化  \n13       0.00       0.00   风化  \n19       0.00       0.00   风化  \n20       0.00       0.00  无风化  \n23       0.00       0.00   风化  \n24       0.00       0.00  无风化  \n25       0.00       0.00   风化  \n26       0.00      15.95   风化  \n27       0.00       1.96   风化  \n29       0.23       0.00   风化  \n30       0.00       0.00   风化  \n31       0.40       0.00  无风化  \n32       0.44       0.00  无风化  \n33       0.00       0.00  无风化  \n34       0.00       0.00  无风化  \n35       0.00       0.00  无风化  \n36       0.00       0.00   风化  \n37       0.00       0.00  无风化  \n38       0.00       0.00   风化  \n39       0.00       3.66  无风化  \n40       0.00       0.00   风化  \n41       0.00       0.00   风化  \n42       0.00       0.00   风化  \n43       0.00       0.00   风化  \n44       0.00       0.00   风化  \n45       0.00       0.00   风化  \n46       0.00       0.00   风化  \n47       0.00       0.00   风化  \n48       0.00       0.00   风化  \n49       0.00       0.00  无风化  \n50       0.00       0.00  无风化  \n51       0.00       0.00  无风化  \n52       1.31       0.00   风化  \n53       0.00       0.00   风化  \n54       0.00       0.00   风化  \n55       0.00       0.00   风化  \n56       0.00       0.00   风化  \n57       0.47       0.00   风化  \n58       0.00       0.00   风化  \n59       0.00       0.00   风化  \n60       0.00       0.00   风化  \n61       0.00       0.00   风化  \n62       0.00       0.00   风化  \n63       0.00       0.00  无风化  \n64       0.00       0.00   风化  \n65       0.00       0.00   风化  \n66       0.00       0.00   风化  ",
      "text/html": "<div>\n<style scoped>\n    .dataframe tbody tr th:only-of-type {\n        vertical-align: middle;\n    }\n\n    .dataframe tbody tr th {\n        vertical-align: top;\n    }\n\n    .dataframe thead th {\n        text-align: right;\n    }\n</style>\n<table border=\"1\" class=\"dataframe\">\n  <thead>\n    <tr style=\"text-align: right;\">\n      <th></th>\n      <th>文物采样点</th>\n      <th>二氧化硅(SiO2)</th>\n      <th>氧化钠(Na2O)</th>\n      <th>氧化钾(K2O)</th>\n      <th>氧化钙(CaO)</th>\n      <th>氧化镁(MgO)</th>\n      <th>氧化铝(Al2O3)</th>\n      <th>氧化铁(Fe2O3)</th>\n      <th>氧化铜(CuO)</th>\n      <th>氧化铅(PbO)</th>\n      <th>氧化钡(BaO)</th>\n      <th>五氧化二磷(P2O5)</th>\n      <th>氧化锶(SrO)</th>\n      <th>氧化锡(SnO2)</th>\n      <th>二氧化硫(SO2)</th>\n      <th>表面风化</th>\n    </tr>\n  </thead>\n  <tbody>\n    <tr>\n      <th>1</th>\n      <td>02</td>\n      <td>36.28</td>\n      <td>0.00</td>\n      <td>1.05</td>\n      <td>2.34</td>\n      <td>1.18</td>\n      <td>5.73</td>\n      <td>1.86</td>\n      <td>0.26</td>\n      <td>47.43</td>\n      <td>0.00</td>\n      <td>3.57</td>\n      <td>0.19</td>\n      <td>0.00</td>\n      <td>0.00</td>\n      <td>风化</td>\n    </tr>\n    <tr>\n      <th>9</th>\n      <td>08</td>\n      <td>20.14</td>\n      <td>0.00</td>\n      <td>0.00</td>\n      <td>1.48</td>\n      <td>0.00</td>\n      <td>1.34</td>\n      <td>0.00</td>\n      <td>10.41</td>\n      <td>28.68</td>\n      <td>31.23</td>\n      <td>3.59</td>\n      <td>0.37</td>\n      <td>0.00</td>\n      <td>2.58</td>\n      <td>风化</td>\n    </tr>\n    <tr>\n      <th>10</th>\n      <td>08严重风化点</td>\n      <td>4.61</td>\n      <td>0.00</td>\n      <td>0.00</td>\n      <td>3.19</td>\n      <td>0.00</td>\n      <td>1.11</td>\n      <td>0.00</td>\n      <td>3.14</td>\n      <td>32.45</td>\n      <td>30.62</td>\n      <td>7.56</td>\n      <td>0.53</td>\n      <td>0.00</td>\n      <td>15.03</td>\n      <td>风化</td>\n    </tr>\n    <tr>\n      <th>13</th>\n      <td>11</td>\n      <td>33.59</td>\n      <td>0.00</td>\n      <td>0.21</td>\n      <td>3.51</td>\n      <td>0.71</td>\n      <td>2.69</td>\n      <td>0.00</td>\n      <td>4.93</td>\n      <td>25.39</td>\n      <td>14.61</td>\n      <td>9.38</td>\n      <td>0.37</td>\n      <td>0.00</td>\n      <td>0.00</td>\n      <td>风化</td>\n    </tr>\n    <tr>\n      <th>19</th>\n      <td>19</td>\n      <td>29.64</td>\n      <td>0.00</td>\n      <td>0.00</td>\n      <td>2.93</td>\n      <td>0.59</td>\n      <td>3.57</td>\n      <td>1.33</td>\n      <td>3.51</td>\n      <td>42.82</td>\n      <td>5.35</td>\n      <td>8.83</td>\n      <td>0.19</td>\n      <td>0.00</td>\n      <td>0.00</td>\n      <td>风化</td>\n    </tr>\n    <tr>\n      <th>20</th>\n      <td>20</td>\n      <td>37.36</td>\n      <td>0.00</td>\n      <td>0.71</td>\n      <td>0.00</td>\n      <td>0.00</td>\n      <td>5.45</td>\n      <td>1.51</td>\n      <td>4.78</td>\n      <td>9.30</td>\n      <td>23.55</td>\n      <td>5.75</td>\n      <td>0.00</td>\n      <td>0.00</td>\n      <td>0.00</td>\n      <td>无风化</td>\n    </tr>\n    <tr>\n      <th>23</th>\n      <td>23未风化点</td>\n      <td>53.79</td>\n      <td>7.92</td>\n      <td>0.00</td>\n      <td>0.50</td>\n      <td>0.71</td>\n      <td>1.42</td>\n      <td>0.00</td>\n      <td>2.99</td>\n      <td>16.98</td>\n      <td>11.86</td>\n      <td>0.00</td>\n      <td>0.33</td>\n      <td>0.00</td>\n      <td>0.00</td>\n      <td>风化</td>\n    </tr>\n    <tr>\n      <th>24</th>\n      <td>24</td>\n      <td>31.94</td>\n      <td>0.00</td>\n      <td>0.00</td>\n      <td>0.47</td>\n      <td>0.00</td>\n      <td>1.59</td>\n      <td>0.00</td>\n      <td>8.46</td>\n      <td>29.14</td>\n      <td>26.23</td>\n      <td>0.14</td>\n      <td>0.91</td>\n      <td>0.00</td>\n      <td>0.00</td>\n      <td>无风化</td>\n    </tr>\n    <tr>\n      <th>25</th>\n      <td>25未风化点</td>\n      <td>50.61</td>\n      <td>2.31</td>\n      <td>0.00</td>\n      <td>0.63</td>\n      <td>0.00</td>\n      <td>1.90</td>\n      <td>1.55</td>\n      <td>1.12</td>\n      <td>31.90</td>\n      <td>6.65</td>\n      <td>0.19</td>\n      <td>0.20</td>\n      <td>0.00</td>\n      <td>0.00</td>\n      <td>风化</td>\n    </tr>\n    <tr>\n      <th>26</th>\n      <td>26严重风化点</td>\n      <td>3.72</td>\n      <td>0.00</td>\n      <td>0.40</td>\n      <td>3.01</td>\n      <td>0.00</td>\n      <td>1.18</td>\n      <td>0.00</td>\n      <td>3.60</td>\n      <td>29.92</td>\n      <td>35.45</td>\n      <td>6.04</td>\n      <td>0.62</td>\n      <td>0.00</td>\n      <td>15.95</td>\n      <td>风化</td>\n    </tr>\n    <tr>\n      <th>27</th>\n      <td>26</td>\n      <td>19.79</td>\n      <td>0.00</td>\n      <td>0.00</td>\n      <td>1.44</td>\n      <td>0.00</td>\n      <td>0.70</td>\n      <td>0.00</td>\n      <td>10.57</td>\n      <td>29.53</td>\n      <td>32.25</td>\n      <td>3.13</td>\n      <td>0.45</td>\n      <td>0.00</td>\n      <td>1.96</td>\n      <td>风化</td>\n    </tr>\n    <tr>\n      <th>29</th>\n      <td>28未风化点</td>\n      <td>68.08</td>\n      <td>0.00</td>\n      <td>0.26</td>\n      <td>1.34</td>\n      <td>1.00</td>\n      <td>4.70</td>\n      <td>0.41</td>\n      <td>0.33</td>\n      <td>17.14</td>\n      <td>4.04</td>\n      <td>1.04</td>\n      <td>0.12</td>\n      <td>0.23</td>\n      <td>0.00</td>\n      <td>风化</td>\n    </tr>\n    <tr>\n      <th>30</th>\n      <td>29未风化点</td>\n      <td>63.30</td>\n      <td>0.92</td>\n      <td>0.30</td>\n      <td>2.98</td>\n      <td>1.49</td>\n      <td>14.34</td>\n      <td>0.81</td>\n      <td>0.74</td>\n      <td>12.31</td>\n      <td>2.03</td>\n      <td>0.41</td>\n      <td>0.25</td>\n      <td>0.00</td>\n      <td>0.00</td>\n      <td>风化</td>\n    </tr>\n    <tr>\n      <th>31</th>\n      <td>30部位1</td>\n      <td>34.34</td>\n      <td>0.00</td>\n      <td>1.41</td>\n      <td>4.49</td>\n      <td>0.98</td>\n      <td>4.35</td>\n      <td>2.12</td>\n      <td>0.00</td>\n      <td>39.22</td>\n      <td>10.29</td>\n      <td>0.00</td>\n      <td>0.35</td>\n      <td>0.40</td>\n      <td>0.00</td>\n      <td>无风化</td>\n    </tr>\n    <tr>\n      <th>32</th>\n      <td>30部位2</td>\n      <td>36.93</td>\n      <td>0.00</td>\n      <td>0.00</td>\n      <td>4.24</td>\n      <td>0.51</td>\n      <td>3.86</td>\n      <td>2.74</td>\n      <td>0.00</td>\n      <td>37.74</td>\n      <td>10.35</td>\n      <td>1.41</td>\n      <td>0.48</td>\n      <td>0.44</td>\n      <td>0.00</td>\n      <td>无风化</td>\n    </tr>\n    <tr>\n      <th>33</th>\n      <td>31</td>\n      <td>65.91</td>\n      <td>0.00</td>\n      <td>0.00</td>\n      <td>1.60</td>\n      <td>0.89</td>\n      <td>3.11</td>\n      <td>4.59</td>\n      <td>0.44</td>\n      <td>16.55</td>\n      <td>3.42</td>\n      <td>1.62</td>\n      <td>0.30</td>\n      <td>0.00</td>\n      <td>0.00</td>\n      <td>无风化</td>\n    </tr>\n    <tr>\n      <th>34</th>\n      <td>32</td>\n      <td>69.71</td>\n      <td>0.00</td>\n      <td>0.21</td>\n      <td>0.46</td>\n      <td>0.00</td>\n      <td>2.36</td>\n      <td>1.00</td>\n      <td>0.11</td>\n      <td>19.76</td>\n      <td>4.88</td>\n      <td>0.17</td>\n      <td>0.00</td>\n      <td>0.00</td>\n      <td>0.00</td>\n      <td>无风化</td>\n    </tr>\n    <tr>\n      <th>35</th>\n      <td>33</td>\n      <td>75.51</td>\n      <td>0.00</td>\n      <td>0.15</td>\n      <td>0.64</td>\n      <td>1.00</td>\n      <td>2.35</td>\n      <td>0.00</td>\n      <td>0.47</td>\n      <td>16.16</td>\n      <td>3.55</td>\n      <td>0.13</td>\n      <td>0.00</td>\n      <td>0.00</td>\n      <td>0.00</td>\n      <td>无风化</td>\n    </tr>\n    <tr>\n      <th>36</th>\n      <td>34</td>\n      <td>35.78</td>\n      <td>0.00</td>\n      <td>0.25</td>\n      <td>0.78</td>\n      <td>0.00</td>\n      <td>1.62</td>\n      <td>0.47</td>\n      <td>1.51</td>\n      <td>46.55</td>\n      <td>10.00</td>\n      <td>0.34</td>\n      <td>0.22</td>\n      <td>0.00</td>\n      <td>0.00</td>\n      <td>风化</td>\n    </tr>\n    <tr>\n      <th>37</th>\n      <td>35</td>\n      <td>65.91</td>\n      <td>0.00</td>\n      <td>0.00</td>\n      <td>0.38</td>\n      <td>0.00</td>\n      <td>1.44</td>\n      <td>0.17</td>\n      <td>0.16</td>\n      <td>22.05</td>\n      <td>5.68</td>\n      <td>0.42</td>\n      <td>0.00</td>\n      <td>0.00</td>\n      <td>0.00</td>\n      <td>无风化</td>\n    </tr>\n    <tr>\n      <th>38</th>\n      <td>36</td>\n      <td>39.57</td>\n      <td>2.22</td>\n      <td>0.14</td>\n      <td>0.37</td>\n      <td>0.00</td>\n      <td>1.60</td>\n      <td>0.32</td>\n      <td>0.68</td>\n      <td>41.61</td>\n      <td>10.83</td>\n      <td>0.07</td>\n      <td>0.22</td>\n      <td>0.00</td>\n      <td>0.00</td>\n      <td>风化</td>\n    </tr>\n    <tr>\n      <th>39</th>\n      <td>37</td>\n      <td>60.12</td>\n      <td>0.00</td>\n      <td>0.23</td>\n      <td>0.89</td>\n      <td>0.00</td>\n      <td>2.72</td>\n      <td>0.00</td>\n      <td>3.01</td>\n      <td>17.24</td>\n      <td>10.34</td>\n      <td>1.46</td>\n      <td>0.31</td>\n      <td>0.00</td>\n      <td>3.66</td>\n      <td>无风化</td>\n    </tr>\n    <tr>\n      <th>40</th>\n      <td>38</td>\n      <td>32.93</td>\n      <td>1.38</td>\n      <td>0.00</td>\n      <td>0.68</td>\n      <td>0.00</td>\n      <td>2.57</td>\n      <td>0.29</td>\n      <td>0.73</td>\n      <td>49.31</td>\n      <td>9.79</td>\n      <td>0.48</td>\n      <td>0.41</td>\n      <td>0.00</td>\n      <td>0.00</td>\n      <td>风化</td>\n    </tr>\n    <tr>\n      <th>41</th>\n      <td>39</td>\n      <td>26.25</td>\n      <td>0.00</td>\n      <td>0.00</td>\n      <td>1.11</td>\n      <td>0.00</td>\n      <td>0.50</td>\n      <td>0.00</td>\n      <td>0.88</td>\n      <td>61.03</td>\n      <td>7.22</td>\n      <td>1.16</td>\n      <td>0.61</td>\n      <td>0.00</td>\n      <td>0.00</td>\n      <td>风化</td>\n    </tr>\n    <tr>\n      <th>42</th>\n      <td>40</td>\n      <td>16.71</td>\n      <td>0.00</td>\n      <td>0.00</td>\n      <td>1.87</td>\n      <td>0.00</td>\n      <td>0.45</td>\n      <td>0.19</td>\n      <td>0.00</td>\n      <td>70.21</td>\n      <td>6.69</td>\n      <td>1.77</td>\n      <td>0.68</td>\n      <td>0.00</td>\n      <td>0.00</td>\n      <td>风化</td>\n    </tr>\n    <tr>\n      <th>43</th>\n      <td>41</td>\n      <td>18.46</td>\n      <td>0.00</td>\n      <td>0.44</td>\n      <td>4.96</td>\n      <td>2.73</td>\n      <td>3.33</td>\n      <td>1.79</td>\n      <td>0.19</td>\n      <td>44.12</td>\n      <td>9.76</td>\n      <td>7.46</td>\n      <td>0.47</td>\n      <td>0.00</td>\n      <td>0.00</td>\n      <td>风化</td>\n    </tr>\n    <tr>\n      <th>44</th>\n      <td>42未风化点2</td>\n      <td>51.33</td>\n      <td>5.68</td>\n      <td>0.35</td>\n      <td>0.00</td>\n      <td>1.16</td>\n      <td>5.66</td>\n      <td>0.00</td>\n      <td>2.72</td>\n      <td>20.12</td>\n      <td>10.88</td>\n      <td>0.00</td>\n      <td>0.00</td>\n      <td>0.00</td>\n      <td>0.00</td>\n      <td>风化</td>\n    </tr>\n    <tr>\n      <th>45</th>\n      <td>42未风化点1</td>\n      <td>51.26</td>\n      <td>5.74</td>\n      <td>0.15</td>\n      <td>0.79</td>\n      <td>1.09</td>\n      <td>3.53</td>\n      <td>0.00</td>\n      <td>2.67</td>\n      <td>21.88</td>\n      <td>10.47</td>\n      <td>0.08</td>\n      <td>0.35</td>\n      <td>0.00</td>\n      <td>0.00</td>\n      <td>风化</td>\n    </tr>\n    <tr>\n      <th>46</th>\n      <td>43部位1</td>\n      <td>12.41</td>\n      <td>0.00</td>\n      <td>0.00</td>\n      <td>5.24</td>\n      <td>0.89</td>\n      <td>2.25</td>\n      <td>0.76</td>\n      <td>5.35</td>\n      <td>59.85</td>\n      <td>7.29</td>\n      <td>0.00</td>\n      <td>0.64</td>\n      <td>0.00</td>\n      <td>0.00</td>\n      <td>风化</td>\n    </tr>\n    <tr>\n      <th>47</th>\n      <td>43部位2</td>\n      <td>21.70</td>\n      <td>0.00</td>\n      <td>0.00</td>\n      <td>6.40</td>\n      <td>0.95</td>\n      <td>3.41</td>\n      <td>1.39</td>\n      <td>1.51</td>\n      <td>44.75</td>\n      <td>3.26</td>\n      <td>12.83</td>\n      <td>0.47</td>\n      <td>0.00</td>\n      <td>0.00</td>\n      <td>风化</td>\n    </tr>\n    <tr>\n      <th>48</th>\n      <td>44未风化点</td>\n      <td>60.74</td>\n      <td>3.06</td>\n      <td>0.20</td>\n      <td>2.14</td>\n      <td>0.00</td>\n      <td>12.69</td>\n      <td>0.77</td>\n      <td>0.43</td>\n      <td>13.61</td>\n      <td>5.22</td>\n      <td>0.00</td>\n      <td>0.26</td>\n      <td>0.00</td>\n      <td>0.00</td>\n      <td>风化</td>\n    </tr>\n    <tr>\n      <th>49</th>\n      <td>45</td>\n      <td>61.28</td>\n      <td>2.66</td>\n      <td>0.11</td>\n      <td>0.84</td>\n      <td>0.74</td>\n      <td>5.00</td>\n      <td>0.00</td>\n      <td>0.53</td>\n      <td>15.99</td>\n      <td>10.96</td>\n      <td>0.00</td>\n      <td>0.23</td>\n      <td>0.00</td>\n      <td>0.00</td>\n      <td>无风化</td>\n    </tr>\n    <tr>\n      <th>50</th>\n      <td>46</td>\n      <td>55.21</td>\n      <td>0.00</td>\n      <td>0.25</td>\n      <td>0.00</td>\n      <td>1.67</td>\n      <td>4.79</td>\n      <td>0.00</td>\n      <td>0.77</td>\n      <td>25.25</td>\n      <td>10.06</td>\n      <td>0.20</td>\n      <td>0.43</td>\n      <td>0.00</td>\n      <td>0.00</td>\n      <td>无风化</td>\n    </tr>\n    <tr>\n      <th>51</th>\n      <td>47</td>\n      <td>51.54</td>\n      <td>4.66</td>\n      <td>0.29</td>\n      <td>0.87</td>\n      <td>0.61</td>\n      <td>3.06</td>\n      <td>0.00</td>\n      <td>0.65</td>\n      <td>25.40</td>\n      <td>9.23</td>\n      <td>0.10</td>\n      <td>0.85</td>\n      <td>0.00</td>\n      <td>0.00</td>\n      <td>无风化</td>\n    </tr>\n    <tr>\n      <th>52</th>\n      <td>48</td>\n      <td>53.33</td>\n      <td>0.80</td>\n      <td>0.32</td>\n      <td>2.82</td>\n      <td>1.54</td>\n      <td>13.65</td>\n      <td>1.03</td>\n      <td>0.00</td>\n      <td>15.71</td>\n      <td>7.31</td>\n      <td>1.10</td>\n      <td>0.25</td>\n      <td>1.31</td>\n      <td>0.00</td>\n      <td>风化</td>\n    </tr>\n    <tr>\n      <th>53</th>\n      <td>49未风化点</td>\n      <td>54.61</td>\n      <td>0.00</td>\n      <td>0.30</td>\n      <td>2.08</td>\n      <td>1.20</td>\n      <td>6.50</td>\n      <td>1.27</td>\n      <td>0.45</td>\n      <td>23.02</td>\n      <td>4.19</td>\n      <td>4.32</td>\n      <td>0.30</td>\n      <td>0.00</td>\n      <td>0.00</td>\n      <td>风化</td>\n    </tr>\n    <tr>\n      <th>54</th>\n      <td>49</td>\n      <td>28.79</td>\n      <td>0.00</td>\n      <td>0.00</td>\n      <td>4.58</td>\n      <td>1.47</td>\n      <td>5.38</td>\n      <td>2.74</td>\n      <td>0.70</td>\n      <td>34.18</td>\n      <td>6.10</td>\n      <td>11.10</td>\n      <td>0.46</td>\n      <td>0.00</td>\n      <td>0.00</td>\n      <td>风化</td>\n    </tr>\n    <tr>\n      <th>55</th>\n      <td>50</td>\n      <td>17.98</td>\n      <td>0.00</td>\n      <td>0.00</td>\n      <td>3.19</td>\n      <td>0.47</td>\n      <td>1.87</td>\n      <td>0.33</td>\n      <td>1.13</td>\n      <td>44.00</td>\n      <td>14.20</td>\n      <td>6.34</td>\n      <td>0.66</td>\n      <td>0.00</td>\n      <td>0.00</td>\n      <td>风化</td>\n    </tr>\n    <tr>\n      <th>56</th>\n      <td>50未风化点</td>\n      <td>45.02</td>\n      <td>0.00</td>\n      <td>0.00</td>\n      <td>3.12</td>\n      <td>0.54</td>\n      <td>4.16</td>\n      <td>0.00</td>\n      <td>0.70</td>\n      <td>30.61</td>\n      <td>6.22</td>\n      <td>6.34</td>\n      <td>0.23</td>\n      <td>0.00</td>\n      <td>0.00</td>\n      <td>风化</td>\n    </tr>\n    <tr>\n      <th>57</th>\n      <td>51部位1</td>\n      <td>24.61</td>\n      <td>0.00</td>\n      <td>0.00</td>\n      <td>3.58</td>\n      <td>1.19</td>\n      <td>5.25</td>\n      <td>1.19</td>\n      <td>1.37</td>\n      <td>40.24</td>\n      <td>8.94</td>\n      <td>8.10</td>\n      <td>0.39</td>\n      <td>0.47</td>\n      <td>0.00</td>\n      <td>风化</td>\n    </tr>\n    <tr>\n      <th>58</th>\n      <td>51部位2</td>\n      <td>21.35</td>\n      <td>0.00</td>\n      <td>0.00</td>\n      <td>5.13</td>\n      <td>1.45</td>\n      <td>2.51</td>\n      <td>0.42</td>\n      <td>0.75</td>\n      <td>51.34</td>\n      <td>0.00</td>\n      <td>8.75</td>\n      <td>0.00</td>\n      <td>0.00</td>\n      <td>0.00</td>\n      <td>风化</td>\n    </tr>\n    <tr>\n      <th>59</th>\n      <td>52</td>\n      <td>25.74</td>\n      <td>1.22</td>\n      <td>0.00</td>\n      <td>2.27</td>\n      <td>0.55</td>\n      <td>1.16</td>\n      <td>0.23</td>\n      <td>0.70</td>\n      <td>47.42</td>\n      <td>8.64</td>\n      <td>5.71</td>\n      <td>0.44</td>\n      <td>0.00</td>\n      <td>0.00</td>\n      <td>风化</td>\n    </tr>\n    <tr>\n      <th>60</th>\n      <td>53未风化点</td>\n      <td>63.66</td>\n      <td>3.04</td>\n      <td>0.11</td>\n      <td>0.78</td>\n      <td>1.14</td>\n      <td>6.06</td>\n      <td>0.00</td>\n      <td>0.54</td>\n      <td>13.66</td>\n      <td>8.99</td>\n      <td>0.00</td>\n      <td>0.27</td>\n      <td>0.00</td>\n      <td>0.00</td>\n      <td>风化</td>\n    </tr>\n    <tr>\n      <th>61</th>\n      <td>54</td>\n      <td>22.28</td>\n      <td>0.00</td>\n      <td>0.32</td>\n      <td>3.19</td>\n      <td>1.28</td>\n      <td>4.15</td>\n      <td>0.00</td>\n      <td>0.83</td>\n      <td>55.46</td>\n      <td>7.04</td>\n      <td>4.24</td>\n      <td>0.88</td>\n      <td>0.00</td>\n      <td>0.00</td>\n      <td>风化</td>\n    </tr>\n    <tr>\n      <th>62</th>\n      <td>54严重风化点</td>\n      <td>17.11</td>\n      <td>0.00</td>\n      <td>0.00</td>\n      <td>0.00</td>\n      <td>1.11</td>\n      <td>3.65</td>\n      <td>0.00</td>\n      <td>1.34</td>\n      <td>58.46</td>\n      <td>0.00</td>\n      <td>14.13</td>\n      <td>1.12</td>\n      <td>0.00</td>\n      <td>0.00</td>\n      <td>风化</td>\n    </tr>\n    <tr>\n      <th>63</th>\n      <td>55</td>\n      <td>49.01</td>\n      <td>2.71</td>\n      <td>0.00</td>\n      <td>1.13</td>\n      <td>0.00</td>\n      <td>1.45</td>\n      <td>0.00</td>\n      <td>0.86</td>\n      <td>32.92</td>\n      <td>7.95</td>\n      <td>0.35</td>\n      <td>0.00</td>\n      <td>0.00</td>\n      <td>0.00</td>\n      <td>无风化</td>\n    </tr>\n    <tr>\n      <th>64</th>\n      <td>56</td>\n      <td>29.15</td>\n      <td>0.00</td>\n      <td>0.00</td>\n      <td>1.21</td>\n      <td>0.00</td>\n      <td>1.85</td>\n      <td>0.00</td>\n      <td>0.79</td>\n      <td>41.25</td>\n      <td>15.45</td>\n      <td>2.54</td>\n      <td>0.00</td>\n      <td>0.00</td>\n      <td>0.00</td>\n      <td>风化</td>\n    </tr>\n    <tr>\n      <th>65</th>\n      <td>57</td>\n      <td>25.42</td>\n      <td>0.00</td>\n      <td>0.00</td>\n      <td>1.31</td>\n      <td>0.00</td>\n      <td>2.18</td>\n      <td>0.00</td>\n      <td>1.16</td>\n      <td>45.10</td>\n      <td>17.30</td>\n      <td>0.00</td>\n      <td>0.00</td>\n      <td>0.00</td>\n      <td>0.00</td>\n      <td>风化</td>\n    </tr>\n    <tr>\n      <th>66</th>\n      <td>58</td>\n      <td>30.39</td>\n      <td>0.00</td>\n      <td>0.34</td>\n      <td>3.49</td>\n      <td>0.79</td>\n      <td>3.52</td>\n      <td>0.86</td>\n      <td>3.13</td>\n      <td>39.35</td>\n      <td>7.66</td>\n      <td>8.99</td>\n      <td>0.24</td>\n      <td>0.00</td>\n      <td>0.00</td>\n      <td>风化</td>\n    </tr>\n  </tbody>\n</table>\n</div>"
     },
     "execution_count": 13,
     "metadata": {},
     "output_type": "execute_result"
    }
   ],
   "source": [
    "chemical_component_PB = df2_sta[(df2_sta.类型 == '铅钡')].drop(['类型'], axis=1)\n",
    "chemical_component_PB"
   ],
   "metadata": {
    "collapsed": false,
    "pycharm": {
     "name": "#%%\n"
    }
   }
  },
  {
   "cell_type": "code",
   "execution_count": 14,
   "outputs": [
    {
     "data": {
      "text/plain": "二氧化硅(SiO2)     24.912692\n氧化钠(Na2O)       0.216154\n氧化钾(K2O)        0.133462\n氧化钙(CaO)        2.695385\n氧化镁(MgO)        0.650000\n氧化铝(Al2O3)      2.970000\n氧化铁(Fe2O3)      0.584615\n氧化铜(CuO)        2.275769\n氧化铅(PbO)       43.313846\n氧化钡(BaO)       11.807308\n五氧化二磷(P2O5)     5.277308\n氧化锶(SrO)        0.418462\n氧化锡(SnO2)       0.068462\n二氧化硫(SO2)       1.366154\ndtype: float64"
     },
     "execution_count": 14,
     "metadata": {},
     "output_type": "execute_result"
    }
   ],
   "source": [
    "ccpb_whe = chemical_component_PB[(chemical_component_PB.表面风化 == '风化')]\n",
    "ccpb_whe = ccpb_whe.drop([23,25,29,30,44,45,48,53,56,60])\n",
    "ccpb_whe_mean = ccpb_whe.drop(['文物采样点', '表面风化'], axis=1).mean()\n",
    "ccpb_whe_mean"
   ],
   "metadata": {
    "collapsed": false,
    "pycharm": {
     "name": "#%%\n"
    }
   }
  },
  {
   "cell_type": "code",
   "execution_count": 15,
   "outputs": [
    {
     "data": {
      "text/plain": "二氧化硅(SiO2)     54.659565\n氧化钠(Na2O)       1.682609\n氧化钾(K2O)        0.218696\n氧化钙(CaO)        1.320435\n氧化镁(MgO)        0.640435\n氧化铝(Al2O3)      4.456087\n氧化铁(Fe2O3)      0.736522\n氧化铜(CuO)        1.431739\n氧化铅(PbO)       22.084783\n氧化钡(BaO)        9.001739\n五氧化二磷(P2O5)     1.049130\n氧化锶(SrO)        0.268261\n氧化锡(SnO2)       0.046522\n二氧化硫(SO2)       0.159130\ndtype: float64"
     },
     "execution_count": 15,
     "metadata": {},
     "output_type": "execute_result"
    }
   ],
   "source": [
    "ccpb_no_whe = chemical_component_PB[(chemical_component_PB.表面风化 == '无风化')]\n",
    "ccpb_no_whe = pd.concat([ccpb_no_whe,chemical_component_PB.loc[[23,25,29,30,44,45,48,53,56,60]]]).sort_index()\n",
    "ccpb_no_whe_mean = ccpb_no_whe.drop(['文物采样点', '表面风化'], axis=1).mean()\n",
    "ccpb_no_whe_mean"
   ],
   "metadata": {
    "collapsed": false,
    "pycharm": {
     "name": "#%%\n"
    }
   }
  },
  {
   "cell_type": "code",
   "execution_count": 16,
   "outputs": [
    {
     "data": {
      "text/plain": "二氧化硅(SiO2)    -0.544221\n氧化钠(Na2O)     -0.871536\n氧化钾(K2O)      -0.389738\n氧化钙(CaO)       1.041286\n氧化镁(MgO)       0.014936\n氧化铝(Al2O3)    -0.333496\n氧化铁(Fe2O3)    -0.206248\n氧化铜(CuO)       0.589514\n氧化铅(PbO)       0.961253\n氧化钡(BaO)       0.311670\n五氧化二磷(P2O5)    4.030173\n氧化锶(SrO)       0.559905\n氧化锡(SnO2)      0.471603\n二氧化硫(SO2)      7.585120\ndtype: float64"
     },
     "execution_count": 16,
     "metadata": {},
     "output_type": "execute_result"
    }
   ],
   "source": [
    "ccpb_whe_ratio = (ccpb_whe_mean - ccpb_no_whe_mean) / ccpb_no_whe_mean\n",
    "ccpb_whe_ratio"
   ],
   "metadata": {
    "collapsed": false,
    "pycharm": {
     "name": "#%%\n"
    }
   }
  },
  {
   "cell_type": "code",
   "execution_count": 17,
   "outputs": [],
   "source": [
    "pd.DataFrame([ccpb_no_whe_mean,ccpb_whe_mean,ccpb_whe_ratio],index=['无风化化学成分含量占比','风化化学成分含量占比','风化后化学成分含量变化率']).to_excel('铅钡玻璃风化化学成分含量的变化_.xlsx')"
   ],
   "metadata": {
    "collapsed": false,
    "pycharm": {
     "name": "#%%\n"
    }
   }
  },
  {
   "cell_type": "code",
   "execution_count": 18,
   "outputs": [
    {
     "data": {
      "text/plain": "    二氧化硅(SiO2)  氧化钠(Na2O)  氧化钾(K2O)  氧化钙(CaO)  氧化镁(MgO)  氧化铝(Al2O3)  \\\n1        36.28       0.00      1.05      2.34      1.18        5.73   \n9        20.14       0.00      0.00      1.48      0.00        1.34   \n10        4.61       0.00      0.00      3.19      0.00        1.11   \n13       33.59       0.00      0.21      3.51      0.71        2.69   \n19       29.64       0.00      0.00      2.93      0.59        3.57   \n26        3.72       0.00      0.40      3.01      0.00        1.18   \n27       19.79       0.00      0.00      1.44      0.00        0.70   \n36       35.78       0.00      0.25      0.78      0.00        1.62   \n38       39.57       2.22      0.14      0.37      0.00        1.60   \n40       32.93       1.38      0.00      0.68      0.00        2.57   \n41       26.25       0.00      0.00      1.11      0.00        0.50   \n42       16.71       0.00      0.00      1.87      0.00        0.45   \n43       18.46       0.00      0.44      4.96      2.73        3.33   \n46       12.41       0.00      0.00      5.24      0.89        2.25   \n47       21.70       0.00      0.00      6.40      0.95        3.41   \n52       53.33       0.80      0.32      2.82      1.54       13.65   \n54       28.79       0.00      0.00      4.58      1.47        5.38   \n55       17.98       0.00      0.00      3.19      0.47        1.87   \n57       24.61       0.00      0.00      3.58      1.19        5.25   \n58       21.35       0.00      0.00      5.13      1.45        2.51   \n59       25.74       1.22      0.00      2.27      0.55        1.16   \n61       22.28       0.00      0.32      3.19      1.28        4.15   \n62       17.11       0.00      0.00      0.00      1.11        3.65   \n64       29.15       0.00      0.00      1.21      0.00        1.85   \n65       25.42       0.00      0.00      1.31      0.00        2.18   \n66       30.39       0.00      0.34      3.49      0.79        3.52   \n\n    氧化铁(Fe2O3)  氧化铜(CuO)  氧化铅(PbO)  氧化钡(BaO)  五氧化二磷(P2O5)  氧化锶(SrO)  \\\n1         1.86      0.26     47.43      0.00         3.57      0.19   \n9         0.00     10.41     28.68     31.23         3.59      0.37   \n10        0.00      3.14     32.45     30.62         7.56      0.53   \n13        0.00      4.93     25.39     14.61         9.38      0.37   \n19        1.33      3.51     42.82      5.35         8.83      0.19   \n26        0.00      3.60     29.92     35.45         6.04      0.62   \n27        0.00     10.57     29.53     32.25         3.13      0.45   \n36        0.47      1.51     46.55     10.00         0.34      0.22   \n38        0.32      0.68     41.61     10.83         0.07      0.22   \n40        0.29      0.73     49.31      9.79         0.48      0.41   \n41        0.00      0.88     61.03      7.22         1.16      0.61   \n42        0.19      0.00     70.21      6.69         1.77      0.68   \n43        1.79      0.19     44.12      9.76         7.46      0.47   \n46        0.76      5.35     59.85      7.29         0.00      0.64   \n47        1.39      1.51     44.75      3.26        12.83      0.47   \n52        1.03      0.00     15.71      7.31         1.10      0.25   \n54        2.74      0.70     34.18      6.10        11.10      0.46   \n55        0.33      1.13     44.00     14.20         6.34      0.66   \n57        1.19      1.37     40.24      8.94         8.10      0.39   \n58        0.42      0.75     51.34      0.00         8.75      0.00   \n59        0.23      0.70     47.42      8.64         5.71      0.44   \n61        0.00      0.83     55.46      7.04         4.24      0.88   \n62        0.00      1.34     58.46      0.00        14.13      1.12   \n64        0.00      0.79     41.25     15.45         2.54      0.00   \n65        0.00      1.16     45.10     17.30         0.00      0.00   \n66        0.86      3.13     39.35      7.66         8.99      0.24   \n\n    氧化锡(SnO2)  二氧化硫(SO2)  \n1        0.00       0.00  \n9        0.00       2.58  \n10       0.00      15.03  \n13       0.00       0.00  \n19       0.00       0.00  \n26       0.00      15.95  \n27       0.00       1.96  \n36       0.00       0.00  \n38       0.00       0.00  \n40       0.00       0.00  \n41       0.00       0.00  \n42       0.00       0.00  \n43       0.00       0.00  \n46       0.00       0.00  \n47       0.00       0.00  \n52       1.31       0.00  \n54       0.00       0.00  \n55       0.00       0.00  \n57       0.47       0.00  \n58       0.00       0.00  \n59       0.00       0.00  \n61       0.00       0.00  \n62       0.00       0.00  \n64       0.00       0.00  \n65       0.00       0.00  \n66       0.00       0.00  ",
      "text/html": "<div>\n<style scoped>\n    .dataframe tbody tr th:only-of-type {\n        vertical-align: middle;\n    }\n\n    .dataframe tbody tr th {\n        vertical-align: top;\n    }\n\n    .dataframe thead th {\n        text-align: right;\n    }\n</style>\n<table border=\"1\" class=\"dataframe\">\n  <thead>\n    <tr style=\"text-align: right;\">\n      <th></th>\n      <th>二氧化硅(SiO2)</th>\n      <th>氧化钠(Na2O)</th>\n      <th>氧化钾(K2O)</th>\n      <th>氧化钙(CaO)</th>\n      <th>氧化镁(MgO)</th>\n      <th>氧化铝(Al2O3)</th>\n      <th>氧化铁(Fe2O3)</th>\n      <th>氧化铜(CuO)</th>\n      <th>氧化铅(PbO)</th>\n      <th>氧化钡(BaO)</th>\n      <th>五氧化二磷(P2O5)</th>\n      <th>氧化锶(SrO)</th>\n      <th>氧化锡(SnO2)</th>\n      <th>二氧化硫(SO2)</th>\n    </tr>\n  </thead>\n  <tbody>\n    <tr>\n      <th>1</th>\n      <td>36.28</td>\n      <td>0.00</td>\n      <td>1.05</td>\n      <td>2.34</td>\n      <td>1.18</td>\n      <td>5.73</td>\n      <td>1.86</td>\n      <td>0.26</td>\n      <td>47.43</td>\n      <td>0.00</td>\n      <td>3.57</td>\n      <td>0.19</td>\n      <td>0.00</td>\n      <td>0.00</td>\n    </tr>\n    <tr>\n      <th>9</th>\n      <td>20.14</td>\n      <td>0.00</td>\n      <td>0.00</td>\n      <td>1.48</td>\n      <td>0.00</td>\n      <td>1.34</td>\n      <td>0.00</td>\n      <td>10.41</td>\n      <td>28.68</td>\n      <td>31.23</td>\n      <td>3.59</td>\n      <td>0.37</td>\n      <td>0.00</td>\n      <td>2.58</td>\n    </tr>\n    <tr>\n      <th>10</th>\n      <td>4.61</td>\n      <td>0.00</td>\n      <td>0.00</td>\n      <td>3.19</td>\n      <td>0.00</td>\n      <td>1.11</td>\n      <td>0.00</td>\n      <td>3.14</td>\n      <td>32.45</td>\n      <td>30.62</td>\n      <td>7.56</td>\n      <td>0.53</td>\n      <td>0.00</td>\n      <td>15.03</td>\n    </tr>\n    <tr>\n      <th>13</th>\n      <td>33.59</td>\n      <td>0.00</td>\n      <td>0.21</td>\n      <td>3.51</td>\n      <td>0.71</td>\n      <td>2.69</td>\n      <td>0.00</td>\n      <td>4.93</td>\n      <td>25.39</td>\n      <td>14.61</td>\n      <td>9.38</td>\n      <td>0.37</td>\n      <td>0.00</td>\n      <td>0.00</td>\n    </tr>\n    <tr>\n      <th>19</th>\n      <td>29.64</td>\n      <td>0.00</td>\n      <td>0.00</td>\n      <td>2.93</td>\n      <td>0.59</td>\n      <td>3.57</td>\n      <td>1.33</td>\n      <td>3.51</td>\n      <td>42.82</td>\n      <td>5.35</td>\n      <td>8.83</td>\n      <td>0.19</td>\n      <td>0.00</td>\n      <td>0.00</td>\n    </tr>\n    <tr>\n      <th>26</th>\n      <td>3.72</td>\n      <td>0.00</td>\n      <td>0.40</td>\n      <td>3.01</td>\n      <td>0.00</td>\n      <td>1.18</td>\n      <td>0.00</td>\n      <td>3.60</td>\n      <td>29.92</td>\n      <td>35.45</td>\n      <td>6.04</td>\n      <td>0.62</td>\n      <td>0.00</td>\n      <td>15.95</td>\n    </tr>\n    <tr>\n      <th>27</th>\n      <td>19.79</td>\n      <td>0.00</td>\n      <td>0.00</td>\n      <td>1.44</td>\n      <td>0.00</td>\n      <td>0.70</td>\n      <td>0.00</td>\n      <td>10.57</td>\n      <td>29.53</td>\n      <td>32.25</td>\n      <td>3.13</td>\n      <td>0.45</td>\n      <td>0.00</td>\n      <td>1.96</td>\n    </tr>\n    <tr>\n      <th>36</th>\n      <td>35.78</td>\n      <td>0.00</td>\n      <td>0.25</td>\n      <td>0.78</td>\n      <td>0.00</td>\n      <td>1.62</td>\n      <td>0.47</td>\n      <td>1.51</td>\n      <td>46.55</td>\n      <td>10.00</td>\n      <td>0.34</td>\n      <td>0.22</td>\n      <td>0.00</td>\n      <td>0.00</td>\n    </tr>\n    <tr>\n      <th>38</th>\n      <td>39.57</td>\n      <td>2.22</td>\n      <td>0.14</td>\n      <td>0.37</td>\n      <td>0.00</td>\n      <td>1.60</td>\n      <td>0.32</td>\n      <td>0.68</td>\n      <td>41.61</td>\n      <td>10.83</td>\n      <td>0.07</td>\n      <td>0.22</td>\n      <td>0.00</td>\n      <td>0.00</td>\n    </tr>\n    <tr>\n      <th>40</th>\n      <td>32.93</td>\n      <td>1.38</td>\n      <td>0.00</td>\n      <td>0.68</td>\n      <td>0.00</td>\n      <td>2.57</td>\n      <td>0.29</td>\n      <td>0.73</td>\n      <td>49.31</td>\n      <td>9.79</td>\n      <td>0.48</td>\n      <td>0.41</td>\n      <td>0.00</td>\n      <td>0.00</td>\n    </tr>\n    <tr>\n      <th>41</th>\n      <td>26.25</td>\n      <td>0.00</td>\n      <td>0.00</td>\n      <td>1.11</td>\n      <td>0.00</td>\n      <td>0.50</td>\n      <td>0.00</td>\n      <td>0.88</td>\n      <td>61.03</td>\n      <td>7.22</td>\n      <td>1.16</td>\n      <td>0.61</td>\n      <td>0.00</td>\n      <td>0.00</td>\n    </tr>\n    <tr>\n      <th>42</th>\n      <td>16.71</td>\n      <td>0.00</td>\n      <td>0.00</td>\n      <td>1.87</td>\n      <td>0.00</td>\n      <td>0.45</td>\n      <td>0.19</td>\n      <td>0.00</td>\n      <td>70.21</td>\n      <td>6.69</td>\n      <td>1.77</td>\n      <td>0.68</td>\n      <td>0.00</td>\n      <td>0.00</td>\n    </tr>\n    <tr>\n      <th>43</th>\n      <td>18.46</td>\n      <td>0.00</td>\n      <td>0.44</td>\n      <td>4.96</td>\n      <td>2.73</td>\n      <td>3.33</td>\n      <td>1.79</td>\n      <td>0.19</td>\n      <td>44.12</td>\n      <td>9.76</td>\n      <td>7.46</td>\n      <td>0.47</td>\n      <td>0.00</td>\n      <td>0.00</td>\n    </tr>\n    <tr>\n      <th>46</th>\n      <td>12.41</td>\n      <td>0.00</td>\n      <td>0.00</td>\n      <td>5.24</td>\n      <td>0.89</td>\n      <td>2.25</td>\n      <td>0.76</td>\n      <td>5.35</td>\n      <td>59.85</td>\n      <td>7.29</td>\n      <td>0.00</td>\n      <td>0.64</td>\n      <td>0.00</td>\n      <td>0.00</td>\n    </tr>\n    <tr>\n      <th>47</th>\n      <td>21.70</td>\n      <td>0.00</td>\n      <td>0.00</td>\n      <td>6.40</td>\n      <td>0.95</td>\n      <td>3.41</td>\n      <td>1.39</td>\n      <td>1.51</td>\n      <td>44.75</td>\n      <td>3.26</td>\n      <td>12.83</td>\n      <td>0.47</td>\n      <td>0.00</td>\n      <td>0.00</td>\n    </tr>\n    <tr>\n      <th>52</th>\n      <td>53.33</td>\n      <td>0.80</td>\n      <td>0.32</td>\n      <td>2.82</td>\n      <td>1.54</td>\n      <td>13.65</td>\n      <td>1.03</td>\n      <td>0.00</td>\n      <td>15.71</td>\n      <td>7.31</td>\n      <td>1.10</td>\n      <td>0.25</td>\n      <td>1.31</td>\n      <td>0.00</td>\n    </tr>\n    <tr>\n      <th>54</th>\n      <td>28.79</td>\n      <td>0.00</td>\n      <td>0.00</td>\n      <td>4.58</td>\n      <td>1.47</td>\n      <td>5.38</td>\n      <td>2.74</td>\n      <td>0.70</td>\n      <td>34.18</td>\n      <td>6.10</td>\n      <td>11.10</td>\n      <td>0.46</td>\n      <td>0.00</td>\n      <td>0.00</td>\n    </tr>\n    <tr>\n      <th>55</th>\n      <td>17.98</td>\n      <td>0.00</td>\n      <td>0.00</td>\n      <td>3.19</td>\n      <td>0.47</td>\n      <td>1.87</td>\n      <td>0.33</td>\n      <td>1.13</td>\n      <td>44.00</td>\n      <td>14.20</td>\n      <td>6.34</td>\n      <td>0.66</td>\n      <td>0.00</td>\n      <td>0.00</td>\n    </tr>\n    <tr>\n      <th>57</th>\n      <td>24.61</td>\n      <td>0.00</td>\n      <td>0.00</td>\n      <td>3.58</td>\n      <td>1.19</td>\n      <td>5.25</td>\n      <td>1.19</td>\n      <td>1.37</td>\n      <td>40.24</td>\n      <td>8.94</td>\n      <td>8.10</td>\n      <td>0.39</td>\n      <td>0.47</td>\n      <td>0.00</td>\n    </tr>\n    <tr>\n      <th>58</th>\n      <td>21.35</td>\n      <td>0.00</td>\n      <td>0.00</td>\n      <td>5.13</td>\n      <td>1.45</td>\n      <td>2.51</td>\n      <td>0.42</td>\n      <td>0.75</td>\n      <td>51.34</td>\n      <td>0.00</td>\n      <td>8.75</td>\n      <td>0.00</td>\n      <td>0.00</td>\n      <td>0.00</td>\n    </tr>\n    <tr>\n      <th>59</th>\n      <td>25.74</td>\n      <td>1.22</td>\n      <td>0.00</td>\n      <td>2.27</td>\n      <td>0.55</td>\n      <td>1.16</td>\n      <td>0.23</td>\n      <td>0.70</td>\n      <td>47.42</td>\n      <td>8.64</td>\n      <td>5.71</td>\n      <td>0.44</td>\n      <td>0.00</td>\n      <td>0.00</td>\n    </tr>\n    <tr>\n      <th>61</th>\n      <td>22.28</td>\n      <td>0.00</td>\n      <td>0.32</td>\n      <td>3.19</td>\n      <td>1.28</td>\n      <td>4.15</td>\n      <td>0.00</td>\n      <td>0.83</td>\n      <td>55.46</td>\n      <td>7.04</td>\n      <td>4.24</td>\n      <td>0.88</td>\n      <td>0.00</td>\n      <td>0.00</td>\n    </tr>\n    <tr>\n      <th>62</th>\n      <td>17.11</td>\n      <td>0.00</td>\n      <td>0.00</td>\n      <td>0.00</td>\n      <td>1.11</td>\n      <td>3.65</td>\n      <td>0.00</td>\n      <td>1.34</td>\n      <td>58.46</td>\n      <td>0.00</td>\n      <td>14.13</td>\n      <td>1.12</td>\n      <td>0.00</td>\n      <td>0.00</td>\n    </tr>\n    <tr>\n      <th>64</th>\n      <td>29.15</td>\n      <td>0.00</td>\n      <td>0.00</td>\n      <td>1.21</td>\n      <td>0.00</td>\n      <td>1.85</td>\n      <td>0.00</td>\n      <td>0.79</td>\n      <td>41.25</td>\n      <td>15.45</td>\n      <td>2.54</td>\n      <td>0.00</td>\n      <td>0.00</td>\n      <td>0.00</td>\n    </tr>\n    <tr>\n      <th>65</th>\n      <td>25.42</td>\n      <td>0.00</td>\n      <td>0.00</td>\n      <td>1.31</td>\n      <td>0.00</td>\n      <td>2.18</td>\n      <td>0.00</td>\n      <td>1.16</td>\n      <td>45.10</td>\n      <td>17.30</td>\n      <td>0.00</td>\n      <td>0.00</td>\n      <td>0.00</td>\n      <td>0.00</td>\n    </tr>\n    <tr>\n      <th>66</th>\n      <td>30.39</td>\n      <td>0.00</td>\n      <td>0.34</td>\n      <td>3.49</td>\n      <td>0.79</td>\n      <td>3.52</td>\n      <td>0.86</td>\n      <td>3.13</td>\n      <td>39.35</td>\n      <td>7.66</td>\n      <td>8.99</td>\n      <td>0.24</td>\n      <td>0.00</td>\n      <td>0.00</td>\n    </tr>\n  </tbody>\n</table>\n</div>"
     },
     "execution_count": 18,
     "metadata": {},
     "output_type": "execute_result"
    }
   ],
   "source": [
    "ccpb_whe_to_pre = ccpb_whe.drop(['文物采样点', '表面风化'], axis=1)\n",
    "ccpb_whe_to_pre"
   ],
   "metadata": {
    "collapsed": false,
    "pycharm": {
     "name": "#%%\n"
    }
   }
  },
  {
   "cell_type": "code",
   "execution_count": 19,
   "outputs": [
    {
     "data": {
      "text/plain": "array([[6.09314605e-01, 1.28798834e-02, 1.31704957e-02, 8.77487360e-03,\n        8.89963842e-03, 6.58082937e-02, 1.79373001e-02, 1.25209656e-03,\n        1.85117853e-01, 6.89057119e-02, 5.43267952e-03, 9.32361179e-04,\n        3.56110470e-04, 1.21809750e-03],\n       [4.57994711e-01, 1.74396842e-02, 2.26670831e-03, 7.51473057e-03,\n        6.63789532e-03, 2.08380701e-02, 7.63380493e-03, 6.78800090e-02,\n        1.51565729e-01, 2.46776053e-01, 7.39719396e-03, 2.45843649e-03,\n        4.82182484e-04, 3.11479045e-03],\n       [1.62806570e-01, 2.70837391e-02, 3.52018624e-03, 2.51543087e-02,\n        1.03086170e-02, 2.68068435e-02, 1.18552594e-02, 3.17973417e-02,\n        2.66321711e-01, 3.75756257e-01, 2.41915869e-02, 5.46893979e-03,\n        7.48826894e-04, 2.81798134e-02],\n       [6.55619260e-01, 1.49685358e-02, 3.06125500e-03, 1.52967623e-02,\n        6.22323346e-03, 3.59042351e-02, 6.55211876e-03, 2.75917206e-02,\n        1.15166262e-01, 9.90882022e-02, 1.65888431e-02, 2.11008376e-03,\n        4.13858741e-04, 1.41562897e-03],\n       [6.12440300e-01, 1.58461288e-02, 2.05958728e-03, 1.35177336e-02,\n        5.47461545e-03, 5.04435307e-02, 1.57800009e-02, 2.07961453e-02,\n        2.05614195e-01, 3.84122173e-02, 1.65317118e-02, 1.14708456e-03,\n        4.38122941e-04, 1.49862613e-03],\n       [1.29201447e-01, 2.66355739e-02, 1.03758323e-02, 2.33421919e-02,\n        1.01380363e-02, 2.80258081e-02, 1.16590858e-02, 3.58523067e-02,\n        2.41494307e-01, 4.27829484e-01, 1.90078474e-02, 6.29176364e-03,\n        7.36435763e-04, 2.94098803e-02],\n       [4.52608303e-01, 1.75393843e-02, 2.27966674e-03, 7.35342923e-03,\n        6.67584316e-03, 1.09477901e-02, 7.67744624e-03, 6.93173378e-02,\n        1.56949899e-01, 2.56292841e-01, 6.48623413e-03, 3.00708364e-03,\n        4.84939048e-04, 2.37980255e-03],\n       [6.68887559e-01, 1.43367398e-02, 3.49052943e-03, 3.25580276e-03,\n        5.45685212e-03, 2.07099712e-02, 5.04522410e-03, 8.09431113e-03,\n        2.02233612e-01, 6.49595213e-02, 5.75921458e-04, 1.20168803e-03,\n        3.96390480e-04, 1.35587771e-03],\n       [6.28137853e-01, 1.25030665e-01, 1.65979887e-03, 1.31141861e-03,\n        4.63359762e-03, 1.73684314e-02, 2.91681386e-03, 3.09519484e-03,\n        1.53499689e-01, 5.97375498e-02, 1.00683549e-04, 1.02039393e-03,\n        3.36588558e-04, 1.15132161e-03],\n       [5.92043268e-01, 8.80269097e-02, 1.79207572e-03, 2.72974030e-03,\n        5.24796728e-03, 3.15970501e-02, 2.99384654e-03, 3.76335113e-03,\n        2.06023893e-01, 6.11609809e-02, 7.81941953e-04, 2.15378251e-03,\n        3.81216904e-04, 1.30397558e-03],\n       [5.74964333e-01, 1.67976767e-02, 2.18326392e-03, 5.42856795e-03,\n        6.39353430e-03, 7.48916330e-03, 7.35278147e-03, 5.52693598e-03,\n        3.10653204e-01, 5.49514084e-02, 2.30218992e-03, 3.90389119e-03,\n        4.64431887e-04, 1.58861748e-03],\n       [4.34601034e-01, 1.99458214e-02, 2.59244138e-03, 1.08594196e-02,\n        7.59178163e-03, 8.00347363e-03, 2.83751214e-03, 1.69719870e-02,\n        4.24359715e-01, 6.04603221e-02, 4.17118193e-03, 5.16748816e-03,\n        5.51473614e-04, 1.88634900e-03],\n       [4.63819363e-01, 1.92688058e-02, 8.25673542e-03, 2.78259216e-02,\n        3.08032025e-02, 5.72154227e-02, 2.58249822e-02, 1.36886602e-03,\n        2.57616427e-01, 8.52112683e-02, 1.69835145e-02, 3.45041480e-03,\n        5.32755094e-04, 1.82232116e-03],\n       [3.49026725e-01, 2.15687274e-02, 2.80337723e-03, 3.29055300e-02,\n        1.12406895e-02, 4.32734098e-02, 1.22735533e-02, 4.31450372e-02,\n        3.91175752e-01, 7.12433713e-02, 1.34484080e-02, 5.25924190e-03,\n        5.96344659e-04, 2.03983313e-03],\n       [5.30418528e-01, 1.87454803e-02, 2.43642806e-03, 3.49292796e-02,\n        1.04279419e-02, 5.69987105e-02, 1.95093848e-02, 1.05834208e-02,\n        2.54198429e-01, 2.76889563e-02, 2.84156222e-02, 3.35670428e-03,\n        5.18285890e-04, 1.77282837e-03],\n       [7.09658382e-01, 3.77696006e-02, 3.18028649e-03, 8.37871780e-03,\n        9.20268421e-03, 1.24211585e-01, 7.87018242e-03, 8.68352660e-03,\n        4.85819350e-02, 3.38006587e-02, 1.32630070e-03, 9.72017388e-04,\n        5.39899378e-03, 9.65129285e-04],\n       [5.98680356e-01, 1.59474395e-02, 2.07275506e-03, 2.12652025e-02,\n        1.37273505e-02, 7.65045594e-02, 3.27170191e-02, 4.17389527e-03,\n        1.65175744e-01, 4.40771202e-02, 2.09145191e-02, 2.79490755e-03,\n        4.40924038e-04, 1.50820746e-03],\n       [4.78411908e-01, 2.04056256e-02, 2.65220405e-03, 1.89519402e-02,\n        5.61598833e-03, 3.40255849e-02, 5.04192121e-03, 8.62146166e-03,\n        2.72073247e-01, 1.31289705e-01, 1.52852699e-02, 5.13112389e-03,\n        5.64186547e-04, 1.92983436e-03],\n       [5.46882864e-01, 1.70419906e-02, 2.21501842e-03, 1.77630047e-02,\n        1.18753306e-02, 7.97799398e-02, 1.51844646e-02, 8.72958170e-03,\n        2.07807656e-01, 6.90319679e-02, 1.63094487e-02, 2.53223251e-03,\n        3.23477694e-03, 1.61172314e-03],\n       [4.93887817e-01, 1.77405898e-02, 2.30581826e-03, 2.64971095e-02,\n        1.50631042e-02, 3.97059741e-02, 5.57891244e-03, 4.97487144e-03,\n        2.75998784e-01, 9.49098634e-02, 1.83404526e-02, 2.82840928e-03,\n        4.90502095e-04, 1.67779221e-03],\n       [5.49883205e-01, 9.24690501e-02, 2.12939658e-03, 1.08277563e-02,\n        5.27643567e-03, 1.69461717e-02, 2.82136692e-03, 4.28795400e-03,\n        2.35420530e-01, 6.41365639e-02, 1.10527305e-02, 2.74644471e-03,\n        4.52973031e-04, 1.54942177e-03],\n       [5.05739257e-01, 1.74080089e-02, 5.42500286e-03, 1.61678721e-02,\n        1.30478061e-02, 6.44185990e-02, 7.61993981e-03, 5.40231292e-03,\n        2.92558159e-01, 5.55282737e-02, 8.72065081e-03, 5.83647223e-03,\n        4.81306706e-04, 1.64633883e-03],\n       [4.10483897e-01, 1.83985559e-02, 2.39133685e-03, 1.44383499e-02,\n        1.19587322e-02, 5.98812254e-02, 8.05352807e-03, 9.21809286e-03,\n        3.25931096e-01, 9.84298968e-02, 3.07156591e-02, 7.85091744e-03,\n        5.08693922e-04, 1.74001846e-03],\n       [6.09745479e-01, 1.60415988e-02, 2.08499333e-03, 5.65127058e-03,\n        6.10575581e-03, 2.64626576e-02, 7.02182644e-03, 4.73835162e-03,\n        2.00518687e-01, 1.12297101e-01, 4.81410221e-03, 2.55753655e-03,\n        4.43527408e-04, 1.51711244e-03],\n       [5.50020105e-01, 1.65936008e-02, 2.15673934e-03, 6.32885312e-03,\n        6.31585893e-03, 3.22560521e-02, 7.26345215e-03, 7.19699453e-03,\n        2.26777744e-01, 1.30070604e-01, 1.03463460e-02, 2.64554308e-03,\n        4.58789481e-04, 1.56931729e-03],\n       [6.18587988e-01, 1.56101977e-02, 5.16878197e-03, 1.58615970e-02,\n        7.22127559e-03, 4.89965098e-02, 1.00516893e-02, 1.82686008e-02,\n        1.86138577e-01, 5.41788254e-02, 1.65806684e-02, 1.42737569e-03,\n        4.31599781e-04, 1.47631327e-03]])"
     },
     "execution_count": 19,
     "metadata": {},
     "output_type": "execute_result"
    }
   ],
   "source": [
    "ccpb_ratio_idx = 0\n",
    "ccpb_whe_to_pre = ccpb_whe.drop(['文物采样点', '表面风化'], axis=1)\n",
    "ccpb_whe_pred = np.zeros(ccpb_whe_to_pre.shape)\n",
    "for ccpb in ccpb_whe_mean:\n",
    "    ccpb_ratio = ccpb_whe_ratio[ccpb_ratio_idx]\n",
    "    tmp = ccpb_whe_to_pre.iloc[:, ccpb_ratio_idx]\n",
    "    # 风化后化学成分直接消失了的，按均值预测，没有消失的按比例预测\n",
    "    ccpb_whe_pred[:, ccpb_ratio_idx] = np.where(tmp == 0, ccpb_no_whe_mean[ccpb_ratio_idx], tmp / (1 + ccpb_ratio))\n",
    "    ccpb_ratio_idx += 1\n",
    "ccpb_whe_res = ccpb_whe_pred / ccpb_whe_pred.sum(axis=1).reshape(-1,1)\n",
    "ccpb_whe_res"
   ],
   "metadata": {
    "collapsed": false,
    "pycharm": {
     "name": "#%%\n"
    }
   }
  },
  {
   "cell_type": "code",
   "execution_count": 26,
   "outputs": [],
   "source": [
    "# 生成预测结果\n",
    "pb_number = df2_valid.loc[ccpb_whe.index]['文物编号']\n",
    "pb_pre_df = pd.DataFrame(ccpb_whe_res,index=pb_number,columns=cck_whe.columns)\n",
    "pb_pre_df.to_excel('铅钡风化点预测结果_.xlsx')"
   ],
   "metadata": {
    "collapsed": false,
    "pycharm": {
     "name": "#%%\n"
    }
   }
  },
  {
   "cell_type": "code",
   "execution_count": 1,
   "outputs": [
    {
     "ename": "NameError",
     "evalue": "name 'pb_pre_df' is not defined",
     "output_type": "error",
     "traceback": [
      "\u001B[1;31m---------------------------------------------------------------------------\u001B[0m",
      "\u001B[1;31mNameError\u001B[0m                                 Traceback (most recent call last)",
      "Input \u001B[1;32mIn [1]\u001B[0m, in \u001B[0;36m<cell line: 1>\u001B[1;34m()\u001B[0m\n\u001B[1;32m----> 1\u001B[0m \u001B[43mpb_pre_df\u001B[49m\u001B[38;5;241m.\u001B[39mmean()\n",
      "\u001B[1;31mNameError\u001B[0m: name 'pb_pre_df' is not defined"
     ]
    }
   ],
   "source": [
    "pb_pre_df.mean()"
   ],
   "metadata": {
    "collapsed": false,
    "pycharm": {
     "name": "#%%\n"
    }
   }
  },
  {
   "cell_type": "code",
   "execution_count": 29,
   "outputs": [
    {
     "data": {
      "text/plain": "二氧化硅(SiO2)     54.659565\n氧化钠(Na2O)       1.682609\n氧化钾(K2O)        0.218696\n氧化钙(CaO)        1.320435\n氧化镁(MgO)        0.640435\n氧化铝(Al2O3)      4.456087\n氧化铁(Fe2O3)      0.736522\n氧化铜(CuO)        1.431739\n氧化铅(PbO)       22.084783\n氧化钡(BaO)        9.001739\n五氧化二磷(P2O5)     1.049130\n氧化锶(SrO)        0.268261\n氧化锡(SnO2)       0.046522\n二氧化硫(SO2)       0.159130\ndtype: float64"
     },
     "execution_count": 29,
     "metadata": {},
     "output_type": "execute_result"
    }
   ],
   "source": [
    "ccpb_no_whe_mean"
   ],
   "metadata": {
    "collapsed": false,
    "pycharm": {
     "name": "#%%\n"
    }
   }
  }
 ],
 "metadata": {
  "kernelspec": {
   "display_name": "Python 3",
   "language": "python",
   "name": "python3"
  },
  "language_info": {
   "codemirror_mode": {
    "name": "ipython",
    "version": 2
   },
   "file_extension": ".py",
   "mimetype": "text/x-python",
   "name": "python",
   "nbconvert_exporter": "python",
   "pygments_lexer": "ipython2",
   "version": "2.7.6"
  }
 },
 "nbformat": 4,
 "nbformat_minor": 0
}